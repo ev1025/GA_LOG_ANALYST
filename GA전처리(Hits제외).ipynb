{
  "cells": [
    {
      "cell_type": "markdown",
      "metadata": {
        "id": "view-in-github",
        "colab_type": "text"
      },
      "source": [
        "<a href=\"https://colab.research.google.com/github/ev1025/GA_LOG_ANALYST/blob/main/GA%EC%A0%84%EC%B2%98%EB%A6%AC(Hits%EC%A0%9C%EC%99%B8).ipynb\" target=\"_parent\"><img src=\"https://colab.research.google.com/assets/colab-badge.svg\" alt=\"Open In Colab\"/></a>"
      ]
    },
    {
      "cell_type": "code",
      "execution_count": null,
      "metadata": {
        "id": "KfPAnL9Ngwhr",
        "outputId": "b36b2e9a-16a7-4c60-c5d2-52588650aad5"
      },
      "outputs": [
        {
          "name": "stdout",
          "output_type": "stream",
          "text": [
            "Requirement already satisfied: tqdm in c:\\users\\envy\\anaconda3\\envs\\ts\\lib\\site-packages (4.65.0)\n",
            "Requirement already satisfied: colorama in c:\\users\\envy\\anaconda3\\envs\\ts\\lib\\site-packages (from tqdm) (0.4.6)\n",
            "Note: you may need to restart the kernel to use updated packages.\n"
          ]
        }
      ],
      "source": [
        "pip install tqdm"
      ]
    },
    {
      "cell_type": "code",
      "execution_count": null,
      "metadata": {
        "id": "cUL9ayUngwhw",
        "outputId": "e8e37209-1947-4d2d-c2be-384e2a0da699"
      },
      "outputs": [
        {
          "name": "stdout",
          "output_type": "stream",
          "text": [
            "Note: you may need to restart the kernel to use updated packages.\n"
          ]
        },
        {
          "name": "stderr",
          "output_type": "stream",
          "text": [
            "ERROR: Invalid requirement: '#'\n"
          ]
        }
      ],
      "source": [
        "pip install ipywidgets # tqdm"
      ]
    },
    {
      "cell_type": "code",
      "execution_count": null,
      "metadata": {
        "id": "s0DgLbAegwhw"
      },
      "outputs": [],
      "source": [
        "import pandas as pd\n",
        "from pandas import json_normalize\n",
        "import json\n",
        "import os\n",
        "import csv\n",
        "import ast\n",
        "from tqdm.notebook import tqdm\n",
        "from tqdm import tqdm\n",
        "from datetime import datetime"
      ]
    },
    {
      "cell_type": "code",
      "execution_count": null,
      "metadata": {
        "id": "xOOzaQ2Ngwhx"
      },
      "outputs": [],
      "source": [
        "# train_v2가 있는 경로로 이동\n",
        "os.chdir('C:\\\\Users\\\\ENVY\\\\Desktop\\\\GA')"
      ]
    },
    {
      "cell_type": "markdown",
      "metadata": {
        "id": "EJ-7E-25gwhx"
      },
      "source": [
        "## 데이터 가져오기"
      ]
    },
    {
      "cell_type": "code",
      "execution_count": null,
      "metadata": {
        "id": "KKZb6EOEgwhy"
      },
      "outputs": [],
      "source": [
        "pd.set_option('display.max_columns',None)"
      ]
    },
    {
      "cell_type": "code",
      "execution_count": null,
      "metadata": {
        "id": "E7tN7wCvgwhz",
        "outputId": "8b557235-cdf2-4a81-f533-2f98cc3c1456"
      },
      "outputs": [
        {
          "data": {
            "text/html": [
              "<div>\n",
              "<style scoped>\n",
              "    .dataframe tbody tr th:only-of-type {\n",
              "        vertical-align: middle;\n",
              "    }\n",
              "\n",
              "    .dataframe tbody tr th {\n",
              "        vertical-align: top;\n",
              "    }\n",
              "\n",
              "    .dataframe thead th {\n",
              "        text-align: right;\n",
              "    }\n",
              "</style>\n",
              "<table border=\"1\" class=\"dataframe\">\n",
              "  <thead>\n",
              "    <tr style=\"text-align: right;\">\n",
              "      <th></th>\n",
              "      <th>channelGrouping</th>\n",
              "      <th>customDimensions</th>\n",
              "      <th>date</th>\n",
              "      <th>device</th>\n",
              "      <th>fullVisitorId</th>\n",
              "      <th>geoNetwork</th>\n",
              "      <th>hits</th>\n",
              "      <th>socialEngagementType</th>\n",
              "      <th>totals</th>\n",
              "      <th>trafficSource</th>\n",
              "      <th>visitId</th>\n",
              "      <th>visitNumber</th>\n",
              "      <th>visitStartTime</th>\n",
              "    </tr>\n",
              "  </thead>\n",
              "  <tbody>\n",
              "    <tr>\n",
              "      <th>0</th>\n",
              "      <td>Organic Search</td>\n",
              "      <td>[{'index': '4', 'value': 'EMEA'}]</td>\n",
              "      <td>20171016</td>\n",
              "      <td>{\"browser\": \"Firefox\", \"browserVersion\": \"not ...</td>\n",
              "      <td>3162355547410993243</td>\n",
              "      <td>{\"continent\": \"Europe\", \"subContinent\": \"Weste...</td>\n",
              "      <td>[{'hitNumber': '1', 'time': '0', 'hour': '17',...</td>\n",
              "      <td>Not Socially Engaged</td>\n",
              "      <td>{\"visits\": \"1\", \"hits\": \"1\", \"pageviews\": \"1\",...</td>\n",
              "      <td>{\"campaign\": \"(not set)\", \"source\": \"google\", ...</td>\n",
              "      <td>1508198450</td>\n",
              "      <td>1</td>\n",
              "      <td>1508198450</td>\n",
              "    </tr>\n",
              "    <tr>\n",
              "      <th>1</th>\n",
              "      <td>Referral</td>\n",
              "      <td>[{'index': '4', 'value': 'North America'}]</td>\n",
              "      <td>20171016</td>\n",
              "      <td>{\"browser\": \"Chrome\", \"browserVersion\": \"not a...</td>\n",
              "      <td>8934116514970143966</td>\n",
              "      <td>{\"continent\": \"Americas\", \"subContinent\": \"Nor...</td>\n",
              "      <td>[{'hitNumber': '1', 'time': '0', 'hour': '10',...</td>\n",
              "      <td>Not Socially Engaged</td>\n",
              "      <td>{\"visits\": \"1\", \"hits\": \"2\", \"pageviews\": \"2\",...</td>\n",
              "      <td>{\"referralPath\": \"/a/google.com/transportation...</td>\n",
              "      <td>1508176307</td>\n",
              "      <td>6</td>\n",
              "      <td>1508176307</td>\n",
              "    </tr>\n",
              "    <tr>\n",
              "      <th>2</th>\n",
              "      <td>Direct</td>\n",
              "      <td>[{'index': '4', 'value': 'North America'}]</td>\n",
              "      <td>20171016</td>\n",
              "      <td>{\"browser\": \"Chrome\", \"browserVersion\": \"not a...</td>\n",
              "      <td>7992466427990357681</td>\n",
              "      <td>{\"continent\": \"Americas\", \"subContinent\": \"Nor...</td>\n",
              "      <td>[{'hitNumber': '1', 'time': '0', 'hour': '17',...</td>\n",
              "      <td>Not Socially Engaged</td>\n",
              "      <td>{\"visits\": \"1\", \"hits\": \"2\", \"pageviews\": \"2\",...</td>\n",
              "      <td>{\"campaign\": \"(not set)\", \"source\": \"(direct)\"...</td>\n",
              "      <td>1508201613</td>\n",
              "      <td>1</td>\n",
              "      <td>1508201613</td>\n",
              "    </tr>\n",
              "    <tr>\n",
              "      <th>3</th>\n",
              "      <td>Organic Search</td>\n",
              "      <td>[{'index': '4', 'value': 'EMEA'}]</td>\n",
              "      <td>20171016</td>\n",
              "      <td>{\"browser\": \"Chrome\", \"browserVersion\": \"not a...</td>\n",
              "      <td>9075655783635761930</td>\n",
              "      <td>{\"continent\": \"Asia\", \"subContinent\": \"Western...</td>\n",
              "      <td>[{'hitNumber': '1', 'time': '0', 'hour': '9', ...</td>\n",
              "      <td>Not Socially Engaged</td>\n",
              "      <td>{\"visits\": \"1\", \"hits\": \"2\", \"pageviews\": \"2\",...</td>\n",
              "      <td>{\"campaign\": \"(not set)\", \"source\": \"google\", ...</td>\n",
              "      <td>1508169851</td>\n",
              "      <td>1</td>\n",
              "      <td>1508169851</td>\n",
              "    </tr>\n",
              "    <tr>\n",
              "      <th>4</th>\n",
              "      <td>Organic Search</td>\n",
              "      <td>[{'index': '4', 'value': 'Central America'}]</td>\n",
              "      <td>20171016</td>\n",
              "      <td>{\"browser\": \"Chrome\", \"browserVersion\": \"not a...</td>\n",
              "      <td>6960673291025684308</td>\n",
              "      <td>{\"continent\": \"Americas\", \"subContinent\": \"Cen...</td>\n",
              "      <td>[{'hitNumber': '1', 'time': '0', 'hour': '14',...</td>\n",
              "      <td>Not Socially Engaged</td>\n",
              "      <td>{\"visits\": \"1\", \"hits\": \"2\", \"pageviews\": \"2\",...</td>\n",
              "      <td>{\"campaign\": \"(not set)\", \"source\": \"google\", ...</td>\n",
              "      <td>1508190552</td>\n",
              "      <td>1</td>\n",
              "      <td>1508190552</td>\n",
              "    </tr>\n",
              "  </tbody>\n",
              "</table>\n",
              "</div>"
            ],
            "text/plain": [
              "  channelGrouping                              customDimensions      date  \\\n",
              "0  Organic Search             [{'index': '4', 'value': 'EMEA'}]  20171016   \n",
              "1        Referral    [{'index': '4', 'value': 'North America'}]  20171016   \n",
              "2          Direct    [{'index': '4', 'value': 'North America'}]  20171016   \n",
              "3  Organic Search             [{'index': '4', 'value': 'EMEA'}]  20171016   \n",
              "4  Organic Search  [{'index': '4', 'value': 'Central America'}]  20171016   \n",
              "\n",
              "                                              device        fullVisitorId  \\\n",
              "0  {\"browser\": \"Firefox\", \"browserVersion\": \"not ...  3162355547410993243   \n",
              "1  {\"browser\": \"Chrome\", \"browserVersion\": \"not a...  8934116514970143966   \n",
              "2  {\"browser\": \"Chrome\", \"browserVersion\": \"not a...  7992466427990357681   \n",
              "3  {\"browser\": \"Chrome\", \"browserVersion\": \"not a...  9075655783635761930   \n",
              "4  {\"browser\": \"Chrome\", \"browserVersion\": \"not a...  6960673291025684308   \n",
              "\n",
              "                                          geoNetwork  \\\n",
              "0  {\"continent\": \"Europe\", \"subContinent\": \"Weste...   \n",
              "1  {\"continent\": \"Americas\", \"subContinent\": \"Nor...   \n",
              "2  {\"continent\": \"Americas\", \"subContinent\": \"Nor...   \n",
              "3  {\"continent\": \"Asia\", \"subContinent\": \"Western...   \n",
              "4  {\"continent\": \"Americas\", \"subContinent\": \"Cen...   \n",
              "\n",
              "                                                hits  socialEngagementType  \\\n",
              "0  [{'hitNumber': '1', 'time': '0', 'hour': '17',...  Not Socially Engaged   \n",
              "1  [{'hitNumber': '1', 'time': '0', 'hour': '10',...  Not Socially Engaged   \n",
              "2  [{'hitNumber': '1', 'time': '0', 'hour': '17',...  Not Socially Engaged   \n",
              "3  [{'hitNumber': '1', 'time': '0', 'hour': '9', ...  Not Socially Engaged   \n",
              "4  [{'hitNumber': '1', 'time': '0', 'hour': '14',...  Not Socially Engaged   \n",
              "\n",
              "                                              totals  \\\n",
              "0  {\"visits\": \"1\", \"hits\": \"1\", \"pageviews\": \"1\",...   \n",
              "1  {\"visits\": \"1\", \"hits\": \"2\", \"pageviews\": \"2\",...   \n",
              "2  {\"visits\": \"1\", \"hits\": \"2\", \"pageviews\": \"2\",...   \n",
              "3  {\"visits\": \"1\", \"hits\": \"2\", \"pageviews\": \"2\",...   \n",
              "4  {\"visits\": \"1\", \"hits\": \"2\", \"pageviews\": \"2\",...   \n",
              "\n",
              "                                       trafficSource     visitId  visitNumber  \\\n",
              "0  {\"campaign\": \"(not set)\", \"source\": \"google\", ...  1508198450            1   \n",
              "1  {\"referralPath\": \"/a/google.com/transportation...  1508176307            6   \n",
              "2  {\"campaign\": \"(not set)\", \"source\": \"(direct)\"...  1508201613            1   \n",
              "3  {\"campaign\": \"(not set)\", \"source\": \"google\", ...  1508169851            1   \n",
              "4  {\"campaign\": \"(not set)\", \"source\": \"google\", ...  1508190552            1   \n",
              "\n",
              "   visitStartTime  \n",
              "0      1508198450  \n",
              "1      1508176307  \n",
              "2      1508201613  \n",
              "3      1508169851  \n",
              "4      1508190552  "
            ]
          },
          "execution_count": 6,
          "metadata": {},
          "output_type": "execute_result"
        }
      ],
      "source": [
        "# 데이터 보기\n",
        "pre_df = pd.read_csv('train_v2.csv',nrows=5)\n",
        "pre_df"
      ]
    },
    {
      "cell_type": "markdown",
      "metadata": {
        "id": "zLle_zpSgwhz"
      },
      "source": [
        "**json**\n",
        "- json형식이 문자열로 저장되어 있어서 변환작업이 필요\n",
        "- 하나의 셀에 json형식이 들어가 있는 셀이 있음(따로 처리)\n",
        "    - json이 한 겹인 컬럼 : device, totals, trafficSource\n",
        "    - json이 두 겹인 컬럼 : customDimensions, hits\n",
        "- 대용량데이터(25GB)의 원인으로 hits컬럼을 꼽았으며 hits 컬럼은 따로 핸들링하기로 결정"
      ]
    },
    {
      "cell_type": "code",
      "execution_count": null,
      "metadata": {
        "id": "O4D7_ixPgwh0",
        "outputId": "b4566bb3-df69-4ce3-82c4-2b14ffb35aa3"
      },
      "outputs": [
        {
          "data": {
            "text/plain": [
              "'{\"browser\": \"Firefox\", \"browserVersion\": \"not available in demo dataset\", \"browserSize\": \"not available in demo dataset\", \"operatingSystem\": \"Windows\", \"operatingSystemVersion\": \"not available in demo dataset\", \"isMobile\": false, \"mobileDeviceBranding\": \"not available in demo dataset\", \"mobileDeviceModel\": \"not available in demo dataset\", \"mobileInputSelector\": \"not available in demo dataset\", \"mobileDeviceInfo\": \"not available in demo dataset\", \"mobileDeviceMarketingName\": \"not available in demo dataset\", \"flashVersion\": \"not available in demo dataset\", \"language\": \"not available in demo dataset\", \"screenColors\": \"not available in demo dataset\", \"screenResolution\": \"not available in demo dataset\", \"deviceCategory\": \"desktop\"}'"
            ]
          },
          "execution_count": 7,
          "metadata": {},
          "output_type": "execute_result"
        }
      ],
      "source": [
        "# json 한 겹\n",
        "pre_df['device'][0]"
      ]
    },
    {
      "cell_type": "code",
      "execution_count": null,
      "metadata": {
        "id": "rKU6uC7pgwh1",
        "outputId": "a2bc65d2-1195-4984-bf67-bba4cea23793"
      },
      "outputs": [
        {
          "data": {
            "text/plain": [
              "736"
            ]
          },
          "execution_count": 8,
          "metadata": {},
          "output_type": "execute_result"
        }
      ],
      "source": [
        "len(pre_df['device'][0])"
      ]
    },
    {
      "cell_type": "code",
      "execution_count": null,
      "metadata": {
        "id": "aClcuyH2gwh1",
        "outputId": "6db98fc8-aea3-4c46-81e3-3583d705f5b5"
      },
      "outputs": [
        {
          "data": {
            "text/plain": [
              "\"[{'hitNumber': '1', 'time': '0', 'hour': '17', 'minute': '0', 'isInteraction': True, 'isEntrance': True, 'isExit': True, 'referer': 'https://www.google.co.uk/search?q=water+bottle&ie=utf-8&num=100&oe=utf-8&hl=en&gl=GB&uule=w+CAIQIFISCamRx0IRO1oCEXoliDJDoPjE&glp=1&gws_rd=cr&fg=1', 'page': {'pagePath': '/google+redesign/bags/water+bottles+and+tumblers', 'hostname': 'shop.googlemerchandisestore.com', 'pageTitle': 'Water Bottles & Tumblers | Drinkware | Google Merchandise Store', 'pagePathLevel1': '/google+redesign/', 'pagePathLevel2': '/bags/', 'pagePathLevel3': '/water+bottles+and+tumblers', 'pagePathLevel4': ''}, 'transaction': {'currencyCode': 'USD'}, 'item': {'currencyCode': 'USD'}, 'appInfo': {'screenName': 'shop.googlemerchandisestore.com/google+redesign/bags/water+bottles+and+tumblers', 'landingScreenName': 'shop.googlemerchandisestore.com/google+redesign/bags/water+bottles+and+tumblers', 'exitScreenName': 'shop.googlemerchandisestore.com/google+redesign/bags/water+bottles+and+tumblers', 'screenDepth': '0'}, 'exceptionInfo': {'isFatal': True}, 'product': [{'productSKU': 'GGOEGDHC074099', 'v2ProductName': 'Google 17oz Stainless Steel Sport Bottle', 'v2ProductCategory': 'Home/Drinkware/Water Bottles and Tumblers/', 'productVariant': '(not set)', 'productBrand': '(not set)', 'productPrice': '23990000', 'localProductPrice': '23990000', 'isImpression': True, 'customDimensions': [], 'customMetrics': [], 'productListName': 'Category', 'productListPosition': '1'}, {'productSKU': 'GGOEGDHQ015399', 'v2ProductName': '26 oz Double Wall Insulated Bottle', 'v2ProductCategory': 'Home/Drinkware/Water Bottles and Tumblers/', 'productVariant': '(not set)', 'productBrand': '(not set)', 'productPrice': '24990000', 'localProductPrice': '24990000', 'isImpression': True, 'customDimensions': [], 'customMetrics': [], 'productListName': 'Category', 'productListPosition': '2'}, {'productSKU': 'GGOEYDHJ056099', 'v2ProductName': '22 oz YouTube Bottle Infuser', 'v2ProductCategory': 'Home/Drinkware/Water Bottles and Tumblers/', 'productVariant': '(not set)', 'productBrand': '(not set)', 'productPrice': '4990000', 'localProductPrice': '4990000', 'isImpression': True, 'customDimensions': [], 'customMetrics': [], 'productListName': 'Category', 'productListPosition': '3'}, {'productSKU': 'GGOEGAAX0074', 'v2ProductName': 'Google 22 oz Water Bottle', 'v2ProductCategory': 'Home/Drinkware/Water Bottles and Tumblers/', 'productVariant': '(not set)', 'productBrand': '(not set)', 'productPrice': '2990000', 'localProductPrice': '2990000', 'isImpression': True, 'customDimensions': [], 'customMetrics': [], 'productListName': 'Category', 'productListPosition': '4'}], 'promotion': [], 'eCommerceAction': {'action_type': '0', 'step': '1'}, 'experiment': [], 'customVariables': [], 'customDimensions': [], 'customMetrics': [], 'type': 'PAGE', 'social': {'socialNetwork': '(not set)', 'hasSocialSourceReferral': 'No', 'socialInteractionNetworkAction': ' : '}, 'contentGroup': {'contentGroup1': '(not set)', 'contentGroup2': 'Bags', 'contentGroup3': '(not set)', 'contentGroup4': '(not set)', 'contentGroup5': '(not set)', 'previousContentGroup1': '(entrance)', 'previousContentGroup2': '(entrance)', 'previousContentGroup3': '(entrance)', 'previousContentGroup4': '(entrance)', 'previousContentGroup5': '(entrance)', 'contentGroupUniqueViews2': '1'}, 'dataSource': 'web', 'publisher_infos': []}]\""
            ]
          },
          "execution_count": 9,
          "metadata": {},
          "output_type": "execute_result"
        }
      ],
      "source": [
        "# json 두 겹\n",
        "pre_df['hits'][0]"
      ]
    },
    {
      "cell_type": "code",
      "execution_count": null,
      "metadata": {
        "id": "U16fnrjTgwh2",
        "outputId": "68d6cc23-9f3c-4a86-89d1-dca1f4b80d23"
      },
      "outputs": [
        {
          "data": {
            "text/plain": [
              "3398"
            ]
          },
          "execution_count": 10,
          "metadata": {},
          "output_type": "execute_result"
        }
      ],
      "source": [
        "len(pre_df['hits'][0])"
      ]
    },
    {
      "cell_type": "markdown",
      "metadata": {
        "id": "845T7HTQgwh2"
      },
      "source": [
        "**데이터 불러오기**"
      ]
    },
    {
      "cell_type": "code",
      "execution_count": null,
      "metadata": {
        "id": "AgKGXrcFgwh2",
        "outputId": "5d06fb8a-bfb4-42a5-86f0-41c4fcdd9320"
      },
      "outputs": [
        {
          "data": {
            "text/html": [
              "<div>\n",
              "<style scoped>\n",
              "    .dataframe tbody tr th:only-of-type {\n",
              "        vertical-align: middle;\n",
              "    }\n",
              "\n",
              "    .dataframe tbody tr th {\n",
              "        vertical-align: top;\n",
              "    }\n",
              "\n",
              "    .dataframe thead th {\n",
              "        text-align: right;\n",
              "    }\n",
              "</style>\n",
              "<table border=\"1\" class=\"dataframe\">\n",
              "  <thead>\n",
              "    <tr style=\"text-align: right;\">\n",
              "      <th></th>\n",
              "      <th>channelGrouping</th>\n",
              "      <th>customDimensions</th>\n",
              "      <th>date</th>\n",
              "      <th>device</th>\n",
              "      <th>fullVisitorId</th>\n",
              "      <th>geoNetwork</th>\n",
              "      <th>socialEngagementType</th>\n",
              "      <th>totals</th>\n",
              "      <th>trafficSource</th>\n",
              "      <th>visitId</th>\n",
              "      <th>visitNumber</th>\n",
              "      <th>visitStartTime</th>\n",
              "    </tr>\n",
              "  </thead>\n",
              "  <tbody>\n",
              "    <tr>\n",
              "      <th>0</th>\n",
              "      <td>Organic Search</td>\n",
              "      <td>[{'index': '4', 'value': 'EMEA'}]</td>\n",
              "      <td>2017-10-16</td>\n",
              "      <td>{'browser': 'Firefox', 'browserVersion': 'not ...</td>\n",
              "      <td>3162355547410993243</td>\n",
              "      <td>{'continent': 'Europe', 'subContinent': 'Weste...</td>\n",
              "      <td>Not Socially Engaged</td>\n",
              "      <td>{'visits': '1', 'hits': '1', 'pageviews': '1',...</td>\n",
              "      <td>{'campaign': '(not set)', 'source': 'google', ...</td>\n",
              "      <td>2017-10-17 00:00:50</td>\n",
              "      <td>1</td>\n",
              "      <td>2017-10-17 00:00:50</td>\n",
              "    </tr>\n",
              "    <tr>\n",
              "      <th>1</th>\n",
              "      <td>Referral</td>\n",
              "      <td>[{'index': '4', 'value': 'North America'}]</td>\n",
              "      <td>2017-10-16</td>\n",
              "      <td>{'browser': 'Chrome', 'browserVersion': 'not a...</td>\n",
              "      <td>8934116514970143966</td>\n",
              "      <td>{'continent': 'Americas', 'subContinent': 'Nor...</td>\n",
              "      <td>Not Socially Engaged</td>\n",
              "      <td>{'visits': '1', 'hits': '2', 'pageviews': '2',...</td>\n",
              "      <td>{'referralPath': '/a/google.com/transportation...</td>\n",
              "      <td>2017-10-16 17:51:47</td>\n",
              "      <td>6</td>\n",
              "      <td>2017-10-16 17:51:47</td>\n",
              "    </tr>\n",
              "    <tr>\n",
              "      <th>2</th>\n",
              "      <td>Direct</td>\n",
              "      <td>[{'index': '4', 'value': 'North America'}]</td>\n",
              "      <td>2017-10-16</td>\n",
              "      <td>{'browser': 'Chrome', 'browserVersion': 'not a...</td>\n",
              "      <td>7992466427990357681</td>\n",
              "      <td>{'continent': 'Americas', 'subContinent': 'Nor...</td>\n",
              "      <td>Not Socially Engaged</td>\n",
              "      <td>{'visits': '1', 'hits': '2', 'pageviews': '2',...</td>\n",
              "      <td>{'campaign': '(not set)', 'source': '(direct)'...</td>\n",
              "      <td>2017-10-17 00:53:33</td>\n",
              "      <td>1</td>\n",
              "      <td>2017-10-17 00:53:33</td>\n",
              "    </tr>\n",
              "    <tr>\n",
              "      <th>3</th>\n",
              "      <td>Organic Search</td>\n",
              "      <td>[{'index': '4', 'value': 'EMEA'}]</td>\n",
              "      <td>2017-10-16</td>\n",
              "      <td>{'browser': 'Chrome', 'browserVersion': 'not a...</td>\n",
              "      <td>9075655783635761930</td>\n",
              "      <td>{'continent': 'Asia', 'subContinent': 'Western...</td>\n",
              "      <td>Not Socially Engaged</td>\n",
              "      <td>{'visits': '1', 'hits': '2', 'pageviews': '2',...</td>\n",
              "      <td>{'campaign': '(not set)', 'source': 'google', ...</td>\n",
              "      <td>2017-10-16 16:04:11</td>\n",
              "      <td>1</td>\n",
              "      <td>2017-10-16 16:04:11</td>\n",
              "    </tr>\n",
              "    <tr>\n",
              "      <th>4</th>\n",
              "      <td>Organic Search</td>\n",
              "      <td>[{'index': '4', 'value': 'Central America'}]</td>\n",
              "      <td>2017-10-16</td>\n",
              "      <td>{'browser': 'Chrome', 'browserVersion': 'not a...</td>\n",
              "      <td>6960673291025684308</td>\n",
              "      <td>{'continent': 'Americas', 'subContinent': 'Cen...</td>\n",
              "      <td>Not Socially Engaged</td>\n",
              "      <td>{'visits': '1', 'hits': '2', 'pageviews': '2',...</td>\n",
              "      <td>{'campaign': '(not set)', 'source': 'google', ...</td>\n",
              "      <td>2017-10-16 21:49:12</td>\n",
              "      <td>1</td>\n",
              "      <td>2017-10-16 21:49:12</td>\n",
              "    </tr>\n",
              "  </tbody>\n",
              "</table>\n",
              "</div>"
            ],
            "text/plain": [
              "  channelGrouping                              customDimensions       date  \\\n",
              "0  Organic Search             [{'index': '4', 'value': 'EMEA'}] 2017-10-16   \n",
              "1        Referral    [{'index': '4', 'value': 'North America'}] 2017-10-16   \n",
              "2          Direct    [{'index': '4', 'value': 'North America'}] 2017-10-16   \n",
              "3  Organic Search             [{'index': '4', 'value': 'EMEA'}] 2017-10-16   \n",
              "4  Organic Search  [{'index': '4', 'value': 'Central America'}] 2017-10-16   \n",
              "\n",
              "                                              device        fullVisitorId  \\\n",
              "0  {'browser': 'Firefox', 'browserVersion': 'not ...  3162355547410993243   \n",
              "1  {'browser': 'Chrome', 'browserVersion': 'not a...  8934116514970143966   \n",
              "2  {'browser': 'Chrome', 'browserVersion': 'not a...  7992466427990357681   \n",
              "3  {'browser': 'Chrome', 'browserVersion': 'not a...  9075655783635761930   \n",
              "4  {'browser': 'Chrome', 'browserVersion': 'not a...  6960673291025684308   \n",
              "\n",
              "                                          geoNetwork  socialEngagementType  \\\n",
              "0  {'continent': 'Europe', 'subContinent': 'Weste...  Not Socially Engaged   \n",
              "1  {'continent': 'Americas', 'subContinent': 'Nor...  Not Socially Engaged   \n",
              "2  {'continent': 'Americas', 'subContinent': 'Nor...  Not Socially Engaged   \n",
              "3  {'continent': 'Asia', 'subContinent': 'Western...  Not Socially Engaged   \n",
              "4  {'continent': 'Americas', 'subContinent': 'Cen...  Not Socially Engaged   \n",
              "\n",
              "                                              totals  \\\n",
              "0  {'visits': '1', 'hits': '1', 'pageviews': '1',...   \n",
              "1  {'visits': '1', 'hits': '2', 'pageviews': '2',...   \n",
              "2  {'visits': '1', 'hits': '2', 'pageviews': '2',...   \n",
              "3  {'visits': '1', 'hits': '2', 'pageviews': '2',...   \n",
              "4  {'visits': '1', 'hits': '2', 'pageviews': '2',...   \n",
              "\n",
              "                                       trafficSource             visitId  \\\n",
              "0  {'campaign': '(not set)', 'source': 'google', ... 2017-10-17 00:00:50   \n",
              "1  {'referralPath': '/a/google.com/transportation... 2017-10-16 17:51:47   \n",
              "2  {'campaign': '(not set)', 'source': '(direct)'... 2017-10-17 00:53:33   \n",
              "3  {'campaign': '(not set)', 'source': 'google', ... 2017-10-16 16:04:11   \n",
              "4  {'campaign': '(not set)', 'source': 'google', ... 2017-10-16 21:49:12   \n",
              "\n",
              "   visitNumber      visitStartTime  \n",
              "0            1 2017-10-17 00:00:50  \n",
              "1            6 2017-10-16 17:51:47  \n",
              "2            1 2017-10-17 00:53:33  \n",
              "3            1 2017-10-16 16:04:11  \n",
              "4            1 2017-10-16 21:49:12  "
            ]
          },
          "execution_count": 11,
          "metadata": {},
          "output_type": "execute_result"
        }
      ],
      "source": [
        "# hits를 제외한 컬럼 목록\n",
        "col_list = pre_df.columns.tolist()\n",
        "col_list.remove('hits')\n",
        "\n",
        "# json이 포함된 목록(json 한겹)\n",
        "json_columns = ['device', 'geoNetwork', 'totals', 'trafficSource']\n",
        "\n",
        "# hits를 제외한 데이터 불러오기\n",
        "df = pd.read_csv('train_v2.csv',\n",
        "                 usecols=col_list,\n",
        "                 dtype={'fullVisitorId' : 'str'},\n",
        "                 converters={column : json.loads for column in json_columns},\n",
        "                 parse_dates=['date'])\n",
        "\n",
        "# unix timestamp를 datetime으로 변환\n",
        "df['visitId'] = pd.to_datetime(df['visitId'], unit='s')\n",
        "df['visitStartTime'] = pd.to_datetime(df['visitStartTime'], unit='s')\n",
        "\n",
        "df.head()"
      ]
    },
    {
      "cell_type": "markdown",
      "metadata": {
        "id": "Xobia3rEgwh3"
      },
      "source": [
        "**json to DataFrame**\n",
        "-  json을 column=key, value=value인 DataFrame으로 만들어서 오른쪽에 붙여주는 작업"
      ]
    },
    {
      "cell_type": "code",
      "execution_count": null,
      "metadata": {
        "id": "nZ1J3d1zgwh3",
        "outputId": "071a11e7-3de1-4fe6-e8a9-55f169c2ef45"
      },
      "outputs": [
        {
          "name": "stderr",
          "output_type": "stream",
          "text": [
            "100%|██████████| 1708337/1708337 [00:49<00:00, 34444.29it/s]\n",
            "100%|██████████| 5/5 [14:00<00:00, 168.15s/it]\n"
          ]
        },
        {
          "data": {
            "text/html": [
              "<div>\n",
              "<style scoped>\n",
              "    .dataframe tbody tr th:only-of-type {\n",
              "        vertical-align: middle;\n",
              "    }\n",
              "\n",
              "    .dataframe tbody tr th {\n",
              "        vertical-align: top;\n",
              "    }\n",
              "\n",
              "    .dataframe thead th {\n",
              "        text-align: right;\n",
              "    }\n",
              "</style>\n",
              "<table border=\"1\" class=\"dataframe\">\n",
              "  <thead>\n",
              "    <tr style=\"text-align: right;\">\n",
              "      <th></th>\n",
              "      <th>channelGrouping</th>\n",
              "      <th>date</th>\n",
              "      <th>fullVisitorId</th>\n",
              "      <th>socialEngagementType</th>\n",
              "      <th>visitId</th>\n",
              "      <th>visitNumber</th>\n",
              "      <th>visitStartTime</th>\n",
              "      <th>device.browser</th>\n",
              "      <th>device.browserVersion</th>\n",
              "      <th>device.browserSize</th>\n",
              "      <th>device.operatingSystem</th>\n",
              "      <th>device.operatingSystemVersion</th>\n",
              "      <th>device.isMobile</th>\n",
              "      <th>device.mobileDeviceBranding</th>\n",
              "      <th>device.mobileDeviceModel</th>\n",
              "      <th>device.mobileInputSelector</th>\n",
              "      <th>device.mobileDeviceInfo</th>\n",
              "      <th>device.mobileDeviceMarketingName</th>\n",
              "      <th>device.flashVersion</th>\n",
              "      <th>device.language</th>\n",
              "      <th>device.screenColors</th>\n",
              "      <th>device.screenResolution</th>\n",
              "      <th>device.deviceCategory</th>\n",
              "      <th>geoNetwork.continent</th>\n",
              "      <th>geoNetwork.subContinent</th>\n",
              "      <th>geoNetwork.country</th>\n",
              "      <th>geoNetwork.region</th>\n",
              "      <th>geoNetwork.metro</th>\n",
              "      <th>geoNetwork.city</th>\n",
              "      <th>geoNetwork.cityId</th>\n",
              "      <th>geoNetwork.networkDomain</th>\n",
              "      <th>geoNetwork.latitude</th>\n",
              "      <th>geoNetwork.longitude</th>\n",
              "      <th>geoNetwork.networkLocation</th>\n",
              "      <th>totals.visits</th>\n",
              "      <th>totals.hits</th>\n",
              "      <th>totals.pageviews</th>\n",
              "      <th>totals.bounces</th>\n",
              "      <th>totals.newVisits</th>\n",
              "      <th>totals.sessionQualityDim</th>\n",
              "      <th>totals.timeOnSite</th>\n",
              "      <th>totals.transactions</th>\n",
              "      <th>totals.transactionRevenue</th>\n",
              "      <th>totals.totalTransactionRevenue</th>\n",
              "      <th>trafficSource.campaign</th>\n",
              "      <th>trafficSource.source</th>\n",
              "      <th>trafficSource.medium</th>\n",
              "      <th>trafficSource.keyword</th>\n",
              "      <th>trafficSource.adwordsClickInfo.criteriaParameters</th>\n",
              "      <th>trafficSource.referralPath</th>\n",
              "      <th>trafficSource.isTrueDirect</th>\n",
              "      <th>trafficSource.adContent</th>\n",
              "      <th>trafficSource.adwordsClickInfo.page</th>\n",
              "      <th>trafficSource.adwordsClickInfo.slot</th>\n",
              "      <th>trafficSource.adwordsClickInfo.gclId</th>\n",
              "      <th>trafficSource.adwordsClickInfo.adNetworkType</th>\n",
              "      <th>trafficSource.adwordsClickInfo.isVideoAd</th>\n",
              "      <th>trafficSource.campaignCode</th>\n",
              "      <th>customDimensions.index</th>\n",
              "      <th>customDimensions.value</th>\n",
              "    </tr>\n",
              "  </thead>\n",
              "  <tbody>\n",
              "    <tr>\n",
              "      <th>0</th>\n",
              "      <td>Organic Search</td>\n",
              "      <td>2017-10-16</td>\n",
              "      <td>3162355547410993243</td>\n",
              "      <td>Not Socially Engaged</td>\n",
              "      <td>2017-10-17 00:00:50</td>\n",
              "      <td>1</td>\n",
              "      <td>2017-10-17 00:00:50</td>\n",
              "      <td>Firefox</td>\n",
              "      <td>not available in demo dataset</td>\n",
              "      <td>not available in demo dataset</td>\n",
              "      <td>Windows</td>\n",
              "      <td>not available in demo dataset</td>\n",
              "      <td>False</td>\n",
              "      <td>not available in demo dataset</td>\n",
              "      <td>not available in demo dataset</td>\n",
              "      <td>not available in demo dataset</td>\n",
              "      <td>not available in demo dataset</td>\n",
              "      <td>not available in demo dataset</td>\n",
              "      <td>not available in demo dataset</td>\n",
              "      <td>not available in demo dataset</td>\n",
              "      <td>not available in demo dataset</td>\n",
              "      <td>not available in demo dataset</td>\n",
              "      <td>desktop</td>\n",
              "      <td>Europe</td>\n",
              "      <td>Western Europe</td>\n",
              "      <td>Germany</td>\n",
              "      <td>not available in demo dataset</td>\n",
              "      <td>not available in demo dataset</td>\n",
              "      <td>not available in demo dataset</td>\n",
              "      <td>not available in demo dataset</td>\n",
              "      <td>(not set)</td>\n",
              "      <td>not available in demo dataset</td>\n",
              "      <td>not available in demo dataset</td>\n",
              "      <td>not available in demo dataset</td>\n",
              "      <td>1</td>\n",
              "      <td>1</td>\n",
              "      <td>1</td>\n",
              "      <td>1</td>\n",
              "      <td>1</td>\n",
              "      <td>1</td>\n",
              "      <td>NaN</td>\n",
              "      <td>NaN</td>\n",
              "      <td>NaN</td>\n",
              "      <td>NaN</td>\n",
              "      <td>(not set)</td>\n",
              "      <td>google</td>\n",
              "      <td>organic</td>\n",
              "      <td>water bottle</td>\n",
              "      <td>not available in demo dataset</td>\n",
              "      <td>NaN</td>\n",
              "      <td>NaN</td>\n",
              "      <td>NaN</td>\n",
              "      <td>NaN</td>\n",
              "      <td>NaN</td>\n",
              "      <td>NaN</td>\n",
              "      <td>NaN</td>\n",
              "      <td>NaN</td>\n",
              "      <td>NaN</td>\n",
              "      <td>4</td>\n",
              "      <td>EMEA</td>\n",
              "    </tr>\n",
              "    <tr>\n",
              "      <th>1</th>\n",
              "      <td>Referral</td>\n",
              "      <td>2017-10-16</td>\n",
              "      <td>8934116514970143966</td>\n",
              "      <td>Not Socially Engaged</td>\n",
              "      <td>2017-10-16 17:51:47</td>\n",
              "      <td>6</td>\n",
              "      <td>2017-10-16 17:51:47</td>\n",
              "      <td>Chrome</td>\n",
              "      <td>not available in demo dataset</td>\n",
              "      <td>not available in demo dataset</td>\n",
              "      <td>Chrome OS</td>\n",
              "      <td>not available in demo dataset</td>\n",
              "      <td>False</td>\n",
              "      <td>not available in demo dataset</td>\n",
              "      <td>not available in demo dataset</td>\n",
              "      <td>not available in demo dataset</td>\n",
              "      <td>not available in demo dataset</td>\n",
              "      <td>not available in demo dataset</td>\n",
              "      <td>not available in demo dataset</td>\n",
              "      <td>not available in demo dataset</td>\n",
              "      <td>not available in demo dataset</td>\n",
              "      <td>not available in demo dataset</td>\n",
              "      <td>desktop</td>\n",
              "      <td>Americas</td>\n",
              "      <td>Northern America</td>\n",
              "      <td>United States</td>\n",
              "      <td>California</td>\n",
              "      <td>San Francisco-Oakland-San Jose CA</td>\n",
              "      <td>Cupertino</td>\n",
              "      <td>not available in demo dataset</td>\n",
              "      <td>(not set)</td>\n",
              "      <td>not available in demo dataset</td>\n",
              "      <td>not available in demo dataset</td>\n",
              "      <td>not available in demo dataset</td>\n",
              "      <td>1</td>\n",
              "      <td>2</td>\n",
              "      <td>2</td>\n",
              "      <td>NaN</td>\n",
              "      <td>NaN</td>\n",
              "      <td>2</td>\n",
              "      <td>28</td>\n",
              "      <td>NaN</td>\n",
              "      <td>NaN</td>\n",
              "      <td>NaN</td>\n",
              "      <td>(not set)</td>\n",
              "      <td>sites.google.com</td>\n",
              "      <td>referral</td>\n",
              "      <td>NaN</td>\n",
              "      <td>not available in demo dataset</td>\n",
              "      <td>/a/google.com/transportation/mtv-services/bike...</td>\n",
              "      <td>NaN</td>\n",
              "      <td>NaN</td>\n",
              "      <td>NaN</td>\n",
              "      <td>NaN</td>\n",
              "      <td>NaN</td>\n",
              "      <td>NaN</td>\n",
              "      <td>NaN</td>\n",
              "      <td>NaN</td>\n",
              "      <td>4</td>\n",
              "      <td>North America</td>\n",
              "    </tr>\n",
              "    <tr>\n",
              "      <th>2</th>\n",
              "      <td>Direct</td>\n",
              "      <td>2017-10-16</td>\n",
              "      <td>7992466427990357681</td>\n",
              "      <td>Not Socially Engaged</td>\n",
              "      <td>2017-10-17 00:53:33</td>\n",
              "      <td>1</td>\n",
              "      <td>2017-10-17 00:53:33</td>\n",
              "      <td>Chrome</td>\n",
              "      <td>not available in demo dataset</td>\n",
              "      <td>not available in demo dataset</td>\n",
              "      <td>Android</td>\n",
              "      <td>not available in demo dataset</td>\n",
              "      <td>True</td>\n",
              "      <td>not available in demo dataset</td>\n",
              "      <td>not available in demo dataset</td>\n",
              "      <td>not available in demo dataset</td>\n",
              "      <td>not available in demo dataset</td>\n",
              "      <td>not available in demo dataset</td>\n",
              "      <td>not available in demo dataset</td>\n",
              "      <td>not available in demo dataset</td>\n",
              "      <td>not available in demo dataset</td>\n",
              "      <td>not available in demo dataset</td>\n",
              "      <td>mobile</td>\n",
              "      <td>Americas</td>\n",
              "      <td>Northern America</td>\n",
              "      <td>United States</td>\n",
              "      <td>not available in demo dataset</td>\n",
              "      <td>not available in demo dataset</td>\n",
              "      <td>not available in demo dataset</td>\n",
              "      <td>not available in demo dataset</td>\n",
              "      <td>windjammercable.net</td>\n",
              "      <td>not available in demo dataset</td>\n",
              "      <td>not available in demo dataset</td>\n",
              "      <td>not available in demo dataset</td>\n",
              "      <td>1</td>\n",
              "      <td>2</td>\n",
              "      <td>2</td>\n",
              "      <td>NaN</td>\n",
              "      <td>1</td>\n",
              "      <td>1</td>\n",
              "      <td>38</td>\n",
              "      <td>NaN</td>\n",
              "      <td>NaN</td>\n",
              "      <td>NaN</td>\n",
              "      <td>(not set)</td>\n",
              "      <td>(direct)</td>\n",
              "      <td>(none)</td>\n",
              "      <td>NaN</td>\n",
              "      <td>not available in demo dataset</td>\n",
              "      <td>NaN</td>\n",
              "      <td>True</td>\n",
              "      <td>NaN</td>\n",
              "      <td>NaN</td>\n",
              "      <td>NaN</td>\n",
              "      <td>NaN</td>\n",
              "      <td>NaN</td>\n",
              "      <td>NaN</td>\n",
              "      <td>NaN</td>\n",
              "      <td>4</td>\n",
              "      <td>North America</td>\n",
              "    </tr>\n",
              "    <tr>\n",
              "      <th>3</th>\n",
              "      <td>Organic Search</td>\n",
              "      <td>2017-10-16</td>\n",
              "      <td>9075655783635761930</td>\n",
              "      <td>Not Socially Engaged</td>\n",
              "      <td>2017-10-16 16:04:11</td>\n",
              "      <td>1</td>\n",
              "      <td>2017-10-16 16:04:11</td>\n",
              "      <td>Chrome</td>\n",
              "      <td>not available in demo dataset</td>\n",
              "      <td>not available in demo dataset</td>\n",
              "      <td>Windows</td>\n",
              "      <td>not available in demo dataset</td>\n",
              "      <td>False</td>\n",
              "      <td>not available in demo dataset</td>\n",
              "      <td>not available in demo dataset</td>\n",
              "      <td>not available in demo dataset</td>\n",
              "      <td>not available in demo dataset</td>\n",
              "      <td>not available in demo dataset</td>\n",
              "      <td>not available in demo dataset</td>\n",
              "      <td>not available in demo dataset</td>\n",
              "      <td>not available in demo dataset</td>\n",
              "      <td>not available in demo dataset</td>\n",
              "      <td>desktop</td>\n",
              "      <td>Asia</td>\n",
              "      <td>Western Asia</td>\n",
              "      <td>Turkey</td>\n",
              "      <td>not available in demo dataset</td>\n",
              "      <td>not available in demo dataset</td>\n",
              "      <td>not available in demo dataset</td>\n",
              "      <td>not available in demo dataset</td>\n",
              "      <td>unknown.unknown</td>\n",
              "      <td>not available in demo dataset</td>\n",
              "      <td>not available in demo dataset</td>\n",
              "      <td>not available in demo dataset</td>\n",
              "      <td>1</td>\n",
              "      <td>2</td>\n",
              "      <td>2</td>\n",
              "      <td>NaN</td>\n",
              "      <td>1</td>\n",
              "      <td>1</td>\n",
              "      <td>1</td>\n",
              "      <td>NaN</td>\n",
              "      <td>NaN</td>\n",
              "      <td>NaN</td>\n",
              "      <td>(not set)</td>\n",
              "      <td>google</td>\n",
              "      <td>organic</td>\n",
              "      <td>(not provided)</td>\n",
              "      <td>not available in demo dataset</td>\n",
              "      <td>NaN</td>\n",
              "      <td>NaN</td>\n",
              "      <td>NaN</td>\n",
              "      <td>NaN</td>\n",
              "      <td>NaN</td>\n",
              "      <td>NaN</td>\n",
              "      <td>NaN</td>\n",
              "      <td>NaN</td>\n",
              "      <td>NaN</td>\n",
              "      <td>4</td>\n",
              "      <td>EMEA</td>\n",
              "    </tr>\n",
              "    <tr>\n",
              "      <th>4</th>\n",
              "      <td>Organic Search</td>\n",
              "      <td>2017-10-16</td>\n",
              "      <td>6960673291025684308</td>\n",
              "      <td>Not Socially Engaged</td>\n",
              "      <td>2017-10-16 21:49:12</td>\n",
              "      <td>1</td>\n",
              "      <td>2017-10-16 21:49:12</td>\n",
              "      <td>Chrome</td>\n",
              "      <td>not available in demo dataset</td>\n",
              "      <td>not available in demo dataset</td>\n",
              "      <td>Windows</td>\n",
              "      <td>not available in demo dataset</td>\n",
              "      <td>False</td>\n",
              "      <td>not available in demo dataset</td>\n",
              "      <td>not available in demo dataset</td>\n",
              "      <td>not available in demo dataset</td>\n",
              "      <td>not available in demo dataset</td>\n",
              "      <td>not available in demo dataset</td>\n",
              "      <td>not available in demo dataset</td>\n",
              "      <td>not available in demo dataset</td>\n",
              "      <td>not available in demo dataset</td>\n",
              "      <td>not available in demo dataset</td>\n",
              "      <td>desktop</td>\n",
              "      <td>Americas</td>\n",
              "      <td>Central America</td>\n",
              "      <td>Mexico</td>\n",
              "      <td>not available in demo dataset</td>\n",
              "      <td>not available in demo dataset</td>\n",
              "      <td>not available in demo dataset</td>\n",
              "      <td>not available in demo dataset</td>\n",
              "      <td>prod-infinitum.com.mx</td>\n",
              "      <td>not available in demo dataset</td>\n",
              "      <td>not available in demo dataset</td>\n",
              "      <td>not available in demo dataset</td>\n",
              "      <td>1</td>\n",
              "      <td>2</td>\n",
              "      <td>2</td>\n",
              "      <td>NaN</td>\n",
              "      <td>1</td>\n",
              "      <td>1</td>\n",
              "      <td>52</td>\n",
              "      <td>NaN</td>\n",
              "      <td>NaN</td>\n",
              "      <td>NaN</td>\n",
              "      <td>(not set)</td>\n",
              "      <td>google</td>\n",
              "      <td>organic</td>\n",
              "      <td>(not provided)</td>\n",
              "      <td>not available in demo dataset</td>\n",
              "      <td>NaN</td>\n",
              "      <td>NaN</td>\n",
              "      <td>NaN</td>\n",
              "      <td>NaN</td>\n",
              "      <td>NaN</td>\n",
              "      <td>NaN</td>\n",
              "      <td>NaN</td>\n",
              "      <td>NaN</td>\n",
              "      <td>NaN</td>\n",
              "      <td>4</td>\n",
              "      <td>Central America</td>\n",
              "    </tr>\n",
              "  </tbody>\n",
              "</table>\n",
              "</div>"
            ],
            "text/plain": [
              "  channelGrouping       date        fullVisitorId  socialEngagementType  \\\n",
              "0  Organic Search 2017-10-16  3162355547410993243  Not Socially Engaged   \n",
              "1        Referral 2017-10-16  8934116514970143966  Not Socially Engaged   \n",
              "2          Direct 2017-10-16  7992466427990357681  Not Socially Engaged   \n",
              "3  Organic Search 2017-10-16  9075655783635761930  Not Socially Engaged   \n",
              "4  Organic Search 2017-10-16  6960673291025684308  Not Socially Engaged   \n",
              "\n",
              "              visitId  visitNumber      visitStartTime device.browser  \\\n",
              "0 2017-10-17 00:00:50            1 2017-10-17 00:00:50        Firefox   \n",
              "1 2017-10-16 17:51:47            6 2017-10-16 17:51:47         Chrome   \n",
              "2 2017-10-17 00:53:33            1 2017-10-17 00:53:33         Chrome   \n",
              "3 2017-10-16 16:04:11            1 2017-10-16 16:04:11         Chrome   \n",
              "4 2017-10-16 21:49:12            1 2017-10-16 21:49:12         Chrome   \n",
              "\n",
              "           device.browserVersion             device.browserSize  \\\n",
              "0  not available in demo dataset  not available in demo dataset   \n",
              "1  not available in demo dataset  not available in demo dataset   \n",
              "2  not available in demo dataset  not available in demo dataset   \n",
              "3  not available in demo dataset  not available in demo dataset   \n",
              "4  not available in demo dataset  not available in demo dataset   \n",
              "\n",
              "  device.operatingSystem  device.operatingSystemVersion  device.isMobile  \\\n",
              "0                Windows  not available in demo dataset            False   \n",
              "1              Chrome OS  not available in demo dataset            False   \n",
              "2                Android  not available in demo dataset             True   \n",
              "3                Windows  not available in demo dataset            False   \n",
              "4                Windows  not available in demo dataset            False   \n",
              "\n",
              "     device.mobileDeviceBranding       device.mobileDeviceModel  \\\n",
              "0  not available in demo dataset  not available in demo dataset   \n",
              "1  not available in demo dataset  not available in demo dataset   \n",
              "2  not available in demo dataset  not available in demo dataset   \n",
              "3  not available in demo dataset  not available in demo dataset   \n",
              "4  not available in demo dataset  not available in demo dataset   \n",
              "\n",
              "      device.mobileInputSelector        device.mobileDeviceInfo  \\\n",
              "0  not available in demo dataset  not available in demo dataset   \n",
              "1  not available in demo dataset  not available in demo dataset   \n",
              "2  not available in demo dataset  not available in demo dataset   \n",
              "3  not available in demo dataset  not available in demo dataset   \n",
              "4  not available in demo dataset  not available in demo dataset   \n",
              "\n",
              "  device.mobileDeviceMarketingName            device.flashVersion  \\\n",
              "0    not available in demo dataset  not available in demo dataset   \n",
              "1    not available in demo dataset  not available in demo dataset   \n",
              "2    not available in demo dataset  not available in demo dataset   \n",
              "3    not available in demo dataset  not available in demo dataset   \n",
              "4    not available in demo dataset  not available in demo dataset   \n",
              "\n",
              "                 device.language            device.screenColors  \\\n",
              "0  not available in demo dataset  not available in demo dataset   \n",
              "1  not available in demo dataset  not available in demo dataset   \n",
              "2  not available in demo dataset  not available in demo dataset   \n",
              "3  not available in demo dataset  not available in demo dataset   \n",
              "4  not available in demo dataset  not available in demo dataset   \n",
              "\n",
              "         device.screenResolution device.deviceCategory geoNetwork.continent  \\\n",
              "0  not available in demo dataset               desktop               Europe   \n",
              "1  not available in demo dataset               desktop             Americas   \n",
              "2  not available in demo dataset                mobile             Americas   \n",
              "3  not available in demo dataset               desktop                 Asia   \n",
              "4  not available in demo dataset               desktop             Americas   \n",
              "\n",
              "  geoNetwork.subContinent geoNetwork.country              geoNetwork.region  \\\n",
              "0          Western Europe            Germany  not available in demo dataset   \n",
              "1        Northern America      United States                     California   \n",
              "2        Northern America      United States  not available in demo dataset   \n",
              "3            Western Asia             Turkey  not available in demo dataset   \n",
              "4         Central America             Mexico  not available in demo dataset   \n",
              "\n",
              "                    geoNetwork.metro                geoNetwork.city  \\\n",
              "0      not available in demo dataset  not available in demo dataset   \n",
              "1  San Francisco-Oakland-San Jose CA                      Cupertino   \n",
              "2      not available in demo dataset  not available in demo dataset   \n",
              "3      not available in demo dataset  not available in demo dataset   \n",
              "4      not available in demo dataset  not available in demo dataset   \n",
              "\n",
              "               geoNetwork.cityId geoNetwork.networkDomain  \\\n",
              "0  not available in demo dataset                (not set)   \n",
              "1  not available in demo dataset                (not set)   \n",
              "2  not available in demo dataset      windjammercable.net   \n",
              "3  not available in demo dataset          unknown.unknown   \n",
              "4  not available in demo dataset    prod-infinitum.com.mx   \n",
              "\n",
              "             geoNetwork.latitude           geoNetwork.longitude  \\\n",
              "0  not available in demo dataset  not available in demo dataset   \n",
              "1  not available in demo dataset  not available in demo dataset   \n",
              "2  not available in demo dataset  not available in demo dataset   \n",
              "3  not available in demo dataset  not available in demo dataset   \n",
              "4  not available in demo dataset  not available in demo dataset   \n",
              "\n",
              "      geoNetwork.networkLocation totals.visits totals.hits totals.pageviews  \\\n",
              "0  not available in demo dataset             1           1                1   \n",
              "1  not available in demo dataset             1           2                2   \n",
              "2  not available in demo dataset             1           2                2   \n",
              "3  not available in demo dataset             1           2                2   \n",
              "4  not available in demo dataset             1           2                2   \n",
              "\n",
              "  totals.bounces totals.newVisits totals.sessionQualityDim totals.timeOnSite  \\\n",
              "0              1                1                        1               NaN   \n",
              "1            NaN              NaN                        2                28   \n",
              "2            NaN                1                        1                38   \n",
              "3            NaN                1                        1                 1   \n",
              "4            NaN                1                        1                52   \n",
              "\n",
              "  totals.transactions totals.transactionRevenue  \\\n",
              "0                 NaN                       NaN   \n",
              "1                 NaN                       NaN   \n",
              "2                 NaN                       NaN   \n",
              "3                 NaN                       NaN   \n",
              "4                 NaN                       NaN   \n",
              "\n",
              "  totals.totalTransactionRevenue trafficSource.campaign trafficSource.source  \\\n",
              "0                            NaN              (not set)               google   \n",
              "1                            NaN              (not set)     sites.google.com   \n",
              "2                            NaN              (not set)             (direct)   \n",
              "3                            NaN              (not set)               google   \n",
              "4                            NaN              (not set)               google   \n",
              "\n",
              "  trafficSource.medium trafficSource.keyword  \\\n",
              "0              organic          water bottle   \n",
              "1             referral                   NaN   \n",
              "2               (none)                   NaN   \n",
              "3              organic        (not provided)   \n",
              "4              organic        (not provided)   \n",
              "\n",
              "  trafficSource.adwordsClickInfo.criteriaParameters  \\\n",
              "0                     not available in demo dataset   \n",
              "1                     not available in demo dataset   \n",
              "2                     not available in demo dataset   \n",
              "3                     not available in demo dataset   \n",
              "4                     not available in demo dataset   \n",
              "\n",
              "                          trafficSource.referralPath  \\\n",
              "0                                                NaN   \n",
              "1  /a/google.com/transportation/mtv-services/bike...   \n",
              "2                                                NaN   \n",
              "3                                                NaN   \n",
              "4                                                NaN   \n",
              "\n",
              "  trafficSource.isTrueDirect trafficSource.adContent  \\\n",
              "0                        NaN                     NaN   \n",
              "1                        NaN                     NaN   \n",
              "2                       True                     NaN   \n",
              "3                        NaN                     NaN   \n",
              "4                        NaN                     NaN   \n",
              "\n",
              "  trafficSource.adwordsClickInfo.page trafficSource.adwordsClickInfo.slot  \\\n",
              "0                                 NaN                                 NaN   \n",
              "1                                 NaN                                 NaN   \n",
              "2                                 NaN                                 NaN   \n",
              "3                                 NaN                                 NaN   \n",
              "4                                 NaN                                 NaN   \n",
              "\n",
              "  trafficSource.adwordsClickInfo.gclId  \\\n",
              "0                                  NaN   \n",
              "1                                  NaN   \n",
              "2                                  NaN   \n",
              "3                                  NaN   \n",
              "4                                  NaN   \n",
              "\n",
              "  trafficSource.adwordsClickInfo.adNetworkType  \\\n",
              "0                                          NaN   \n",
              "1                                          NaN   \n",
              "2                                          NaN   \n",
              "3                                          NaN   \n",
              "4                                          NaN   \n",
              "\n",
              "  trafficSource.adwordsClickInfo.isVideoAd trafficSource.campaignCode  \\\n",
              "0                                      NaN                        NaN   \n",
              "1                                      NaN                        NaN   \n",
              "2                                      NaN                        NaN   \n",
              "3                                      NaN                        NaN   \n",
              "4                                      NaN                        NaN   \n",
              "\n",
              "  customDimensions.index customDimensions.value  \n",
              "0                      4                   EMEA  \n",
              "1                      4          North America  \n",
              "2                      4          North America  \n",
              "3                      4                   EMEA  \n",
              "4                      4        Central America  "
            ]
          },
          "execution_count": 12,
          "metadata": {},
          "output_type": "execute_result"
        }
      ],
      "source": [
        "json_columns.append('customDimensions') # json컬럼에 추가해서 한 번에 처리\n",
        "\n",
        "for column in tqdm(json_columns):\n",
        "    if column != 'customDimensions': # json이 한겹인 경우\n",
        "        json_to_df = json_normalize(df[column])\n",
        "        json_to_df.columns = [f\"{column}.{subcol}\" for subcol in json_to_df.columns] # 중복을 방지하기 위해 어느 컬럼의 json인지 기록\n",
        "        df = df.drop(column, axis=1).merge(json_to_df, left_index=True, right_index=True) # json컬럼 지우고 변환된 df를 오른쪽에 붙여준다.\n",
        "    else:\n",
        "        # json 두 겹인 'customDimensions'는 converter가 적용되지 않아서 따로 작업을 진행\n",
        "        tqdm.pandas() \n",
        "        df['customDimensions'] = df['customDimensions'].progress_apply(lambda x : ast.literal_eval(x)) # \"\"을 제거\n",
        "\n",
        "        # json 한 겹([]) 풀어주기(0이라는 이름의 컬럼에 들어감)\n",
        "        json_col2 = json_normalize(df['customDimensions'])\n",
        "\n",
        "        # json을 column=key, value=value인 DataFrame으로 만들어줌(json_to_df와 같은 작업)\n",
        "        json_to_df2 = json_normalize(json_col2[0])\n",
        "        json_to_df2.columns = [f\"{column}.{subcol}\" for subcol in json_to_df2.columns]\n",
        "        df = df.drop(column, axis=1).merge(json_to_df2, left_index=True, right_index=True)\n",
        "\n",
        "df.head()"
      ]
    },
    {
      "cell_type": "markdown",
      "metadata": {
        "id": "z2aJvWT9gwh4"
      },
      "source": [
        "**Unix to Datetime**\n",
        "- visitId 와 visitStratTime컬럼이 unix시간으로 되어있어서 변환\n",
        "- 두 컬럼의 값이 거의 동일(몇 초 차이)\n",
        "- 방문시간 확인용으로 사용하기 위해 visitStartTime를 남김\n",
        "- fullVisitorId가 고유아이디이기 때문에 visitId컬럼은 제거"
      ]
    },
    {
      "cell_type": "code",
      "execution_count": null,
      "metadata": {
        "id": "CAVBBWS9gwh4",
        "outputId": "38649211-4f70-4dc9-d50a-aa0567d8658f"
      },
      "outputs": [
        {
          "data": {
            "text/html": [
              "<div>\n",
              "<style scoped>\n",
              "    .dataframe tbody tr th:only-of-type {\n",
              "        vertical-align: middle;\n",
              "    }\n",
              "\n",
              "    .dataframe tbody tr th {\n",
              "        vertical-align: top;\n",
              "    }\n",
              "\n",
              "    .dataframe thead th {\n",
              "        text-align: right;\n",
              "    }\n",
              "</style>\n",
              "<table border=\"1\" class=\"dataframe\">\n",
              "  <thead>\n",
              "    <tr style=\"text-align: right;\">\n",
              "      <th></th>\n",
              "      <th>visitId</th>\n",
              "      <th>visitStartTime</th>\n",
              "    </tr>\n",
              "  </thead>\n",
              "  <tbody>\n",
              "    <tr>\n",
              "      <th>56</th>\n",
              "      <td>2017-10-16 21:45:56</td>\n",
              "      <td>2017-10-16 21:46:00</td>\n",
              "    </tr>\n",
              "    <tr>\n",
              "      <th>569</th>\n",
              "      <td>2017-10-16 16:43:43</td>\n",
              "      <td>2017-10-16 16:43:52</td>\n",
              "    </tr>\n",
              "    <tr>\n",
              "      <th>1731</th>\n",
              "      <td>2017-10-16 23:18:55</td>\n",
              "      <td>2017-10-16 23:19:01</td>\n",
              "    </tr>\n",
              "    <tr>\n",
              "      <th>1853</th>\n",
              "      <td>2017-10-16 17:33:50</td>\n",
              "      <td>2017-10-16 17:33:53</td>\n",
              "    </tr>\n",
              "    <tr>\n",
              "      <th>2153</th>\n",
              "      <td>2017-10-16 23:32:03</td>\n",
              "      <td>2017-10-16 23:32:06</td>\n",
              "    </tr>\n",
              "  </tbody>\n",
              "</table>\n",
              "</div>"
            ],
            "text/plain": [
              "                 visitId      visitStartTime\n",
              "56   2017-10-16 21:45:56 2017-10-16 21:46:00\n",
              "569  2017-10-16 16:43:43 2017-10-16 16:43:52\n",
              "1731 2017-10-16 23:18:55 2017-10-16 23:19:01\n",
              "1853 2017-10-16 17:33:50 2017-10-16 17:33:53\n",
              "2153 2017-10-16 23:32:03 2017-10-16 23:32:06"
            ]
          },
          "execution_count": 79,
          "metadata": {},
          "output_type": "execute_result"
        }
      ],
      "source": [
        "# 큰 차이가 없는 것으로 보임\n",
        "# diff_time = set(df['visitId']).difference(set(df['visitStartTime']))\n",
        "df[df['visitId'].isin(diff_time)].loc[:,['visitId','visitStartTime']].head()"
      ]
    },
    {
      "cell_type": "code",
      "execution_count": null,
      "metadata": {
        "id": "6yn_azsQgwh4"
      },
      "outputs": [],
      "source": [
        "# 고유id는 fullVisitorId가 존재하여 visitId 제외\n",
        "df = df.drop('visitId',axis=1)"
      ]
    },
    {
      "cell_type": "markdown",
      "metadata": {
        "id": "JOmb0ic4gwh5"
      },
      "source": [
        "**단일 값인 컬럼**\n",
        "- 다수의 컬럼에서 수집되지 않은 컬럼이 존재\n",
        "- 단일 값인 컬럼 제거"
      ]
    },
    {
      "cell_type": "code",
      "execution_count": null,
      "metadata": {
        "id": "OBas5hYcgwh5",
        "outputId": "7983d7ea-4ae2-403a-aa23-16d082e1d6c9"
      },
      "outputs": [
        {
          "data": {
            "text/plain": [
              "array(['Not Socially Engaged'], dtype=object)"
            ]
          },
          "execution_count": 37,
          "metadata": {},
          "output_type": "execute_result"
        }
      ],
      "source": [
        "df['socialEngagementType'].unique()"
      ]
    },
    {
      "cell_type": "code",
      "execution_count": null,
      "metadata": {
        "id": "M7qkwDbkgwh5",
        "outputId": "b44d8633-b8cd-451a-9aad-34d2537e32ca"
      },
      "outputs": [
        {
          "data": {
            "text/plain": [
              "array(['not available in demo dataset'], dtype=object)"
            ]
          },
          "execution_count": 39,
          "metadata": {},
          "output_type": "execute_result"
        }
      ],
      "source": [
        "df['device.browserVersion'].unique() "
      ]
    },
    {
      "cell_type": "code",
      "execution_count": null,
      "metadata": {
        "id": "TKaf3YoFgwh6",
        "outputId": "821d5c5b-9fa7-45b6-f3ad-f7db77d690b7"
      },
      "outputs": [
        {
          "data": {
            "text/plain": [
              "array(['not available in demo dataset'], dtype=object)"
            ]
          },
          "execution_count": 40,
          "metadata": {},
          "output_type": "execute_result"
        }
      ],
      "source": [
        "df['device.browserSize'].unique() "
      ]
    },
    {
      "cell_type": "code",
      "execution_count": null,
      "metadata": {
        "id": "zGxuqjC8gwh6",
        "outputId": "6b3f9209-5bf8-4507-b141-e2193470b320"
      },
      "outputs": [
        {
          "data": {
            "text/plain": [
              "['socialEngagementType',\n",
              " 'device.browserVersion',\n",
              " 'device.browserSize',\n",
              " 'device.operatingSystemVersion',\n",
              " 'device.mobileDeviceBranding',\n",
              " 'device.mobileDeviceModel',\n",
              " 'device.mobileInputSelector',\n",
              " 'device.mobileDeviceInfo',\n",
              " 'device.mobileDeviceMarketingName',\n",
              " 'device.flashVersion',\n",
              " 'device.language',\n",
              " 'device.screenColors',\n",
              " 'device.screenResolution',\n",
              " 'geoNetwork.cityId',\n",
              " 'geoNetwork.latitude',\n",
              " 'geoNetwork.longitude',\n",
              " 'geoNetwork.networkLocation',\n",
              " 'totals.visits',\n",
              " 'trafficSource.adwordsClickInfo.criteriaParameters']"
            ]
          },
          "execution_count": 36,
          "metadata": {},
          "output_type": "execute_result"
        }
      ],
      "source": [
        "just_one_value = [column for column in df.columns if len(df[column].unique())==1]\n",
        "just_one_value"
      ]
    },
    {
      "cell_type": "code",
      "execution_count": null,
      "metadata": {
        "id": "AFPEk7kfgwh6",
        "outputId": "d770d32c-ecdf-4bdf-cd4c-b88abfc95e07"
      },
      "outputs": [
        {
          "data": {
            "text/plain": [
              "(1708337, 60)"
            ]
          },
          "execution_count": 41,
          "metadata": {},
          "output_type": "execute_result"
        }
      ],
      "source": [
        "df.shape"
      ]
    },
    {
      "cell_type": "code",
      "execution_count": null,
      "metadata": {
        "id": "foR1Ancxgwh6",
        "outputId": "f73ae617-f13e-4c79-cd15-f02ccccf5126"
      },
      "outputs": [
        {
          "data": {
            "text/plain": [
              "(1708337, 41)"
            ]
          },
          "execution_count": 42,
          "metadata": {},
          "output_type": "execute_result"
        }
      ],
      "source": [
        "# 단일 값 컬럼 제거\n",
        "df = df.drop(just_one_value, axis=1)\n",
        "df.shape"
      ]
    },
    {
      "cell_type": "markdown",
      "metadata": {
        "id": "5GgaTb8Kgwh6"
      },
      "source": [
        "**값이 두개 뿐인 컬럼**"
      ]
    },
    {
      "cell_type": "code",
      "execution_count": null,
      "metadata": {
        "id": "UzLH0X-9gwh6",
        "outputId": "d3229e30-bb70-4384-ecbe-3fc8a16a522f"
      },
      "outputs": [
        {
          "data": {
            "text/plain": [
              "False    75274\n",
              "Name: trafficSource.adwordsClickInfo.isVideoAd, dtype: int64"
            ]
          },
          "execution_count": 59,
          "metadata": {},
          "output_type": "execute_result"
        }
      ],
      "source": [
        "# 비디오광고를 클릭하고 들어온 경우(비디오광고 없음)\n",
        "df['trafficSource.adwordsClickInfo.isVideoAd'].value_counts()"
      ]
    },
    {
      "cell_type": "code",
      "execution_count": null,
      "metadata": {
        "id": "vwfSMolbgwh7",
        "outputId": "7b0fdfa7-8b4f-4288-e2df-c5c31470c635"
      },
      "outputs": [
        {
          "data": {
            "text/plain": [
              "1708336"
            ]
          },
          "execution_count": 63,
          "metadata": {},
          "output_type": "execute_result"
        }
      ],
      "source": [
        "# 1개를 제외하고 모두 결측치\n",
        "df['trafficSource.campaignCode'].isna().sum()"
      ]
    },
    {
      "cell_type": "code",
      "execution_count": null,
      "metadata": {
        "id": "x8ebWzpXgwh7"
      },
      "outputs": [],
      "source": [
        "# 값이 두개인 컬럼 제거\n",
        "df = df.drop(['trafficSource.adwordsClickInfo.isVideoAd','trafficSource.campaignCode'],axis=1)"
      ]
    },
    {
      "cell_type": "markdown",
      "metadata": {
        "id": "vtTbCgXHgwh7"
      },
      "source": [
        "**다른 지표로 판단가능한 지표**\n",
        "- device.isMobile : 모바일여부 (device.deviceCategory로 기기 확인 가능하여 제거)\n",
        "- trafficSource.isTrueDirect : 직접 방문여부 (trafficSource.source와 direct 여부가 다르게 나타나서 신빙성 없는 컬럼으로 보고 제거)"
      ]
    },
    {
      "cell_type": "code",
      "execution_count": null,
      "metadata": {
        "id": "xXPKwEJWgwh7",
        "outputId": "5f1ded33-b42c-418b-d93c-25afd34695c8"
      },
      "outputs": [
        {
          "data": {
            "text/plain": [
              "desktop    1171579\n",
              "mobile      471336\n",
              "tablet       65422\n",
              "Name: device.deviceCategory, dtype: int64"
            ]
          },
          "execution_count": 52,
          "metadata": {},
          "output_type": "execute_result"
        }
      ],
      "source": [
        "# 모바일, 태블릿 확인가능\n",
        "df['device.deviceCategory'].value_counts()"
      ]
    },
    {
      "cell_type": "code",
      "execution_count": null,
      "metadata": {
        "id": "fzrWct9Hgwh7",
        "outputId": "03e3fc63-cd68-4431-bd01-e966778326f9"
      },
      "outputs": [
        {
          "data": {
            "text/plain": [
              "google                  658384\n",
              "(direct)                565975\n",
              "youtube.com             329450\n",
              "analytics.google.com     37436\n",
              "Partners                 32931\n",
              "                         ...  \n",
              "google.ge                    1\n",
              "apps.rackspace.com           1\n",
              "blackboard.neu.edu           1\n",
              "google.se                    1\n",
              "p.qiao.baidu.com             1\n",
              "Name: trafficSource.source, Length: 345, dtype: int64"
            ]
          },
          "execution_count": 53,
          "metadata": {},
          "output_type": "execute_result"
        }
      ],
      "source": [
        "# (direct)값이 존재\n",
        "df['trafficSource.source'].value_counts()"
      ]
    },
    {
      "cell_type": "code",
      "execution_count": null,
      "metadata": {
        "id": "YiRbnB5Lgwh7"
      },
      "outputs": [],
      "source": [
        "df = df.drop(['device.isMobile','trafficSource.isTrueDirect'], axis=1)"
      ]
    },
    {
      "cell_type": "markdown",
      "metadata": {
        "id": "wG7jBVkCgwh8"
      },
      "source": [
        "**사용자 지정 컬럼(보류)**"
      ]
    },
    {
      "cell_type": "code",
      "execution_count": null,
      "metadata": {
        "id": "kAIp0qSogwh8",
        "outputId": "d27efe1a-cb40-4054-fe6a-ba66d7e445ab"
      },
      "outputs": [
        {
          "data": {
            "text/plain": [
              "North America      768223\n",
              "EMEA               313991\n",
              "APAC               222071\n",
              "South America       45553\n",
              "Central America     25264\n",
              "Name: customDimensions.value, dtype: int64"
            ]
          },
          "execution_count": 70,
          "metadata": {},
          "output_type": "execute_result"
        }
      ],
      "source": [
        "# 사용자 지정 차원이 4와 nan으로 나뉨\n",
        "df[df['customDimensions.index']=='4']['customDimensions.value'].value_counts()"
      ]
    },
    {
      "cell_type": "code",
      "execution_count": null,
      "metadata": {
        "id": "QDluO3fOgwh8",
        "outputId": "82fe548d-7fad-43ff-ff49-ab1ef9064538"
      },
      "outputs": [
        {
          "data": {
            "text/plain": [
              "Series([], Name: customDimensions.value, dtype: int64)"
            ]
          },
          "execution_count": 71,
          "metadata": {},
          "output_type": "execute_result"
        }
      ],
      "source": [
        "# 4가 아닌 값은 모두 nan\n",
        "df[df['customDimensions.index']!='4']['customDimensions.value'].value_counts()"
      ]
    },
    {
      "cell_type": "markdown",
      "metadata": {
        "id": "EdR38iOcgwh8"
      },
      "source": [
        "**컬럼순서를 사용성 있게 변경**"
      ]
    },
    {
      "cell_type": "code",
      "execution_count": null,
      "metadata": {
        "id": "0mHfrKlBgwh8",
        "outputId": "6bf2a6d5-e192-4695-d92e-bddaec670cfc"
      },
      "outputs": [
        {
          "data": {
            "text/plain": [
              "(1708337, 36)"
            ]
          },
          "execution_count": 74,
          "metadata": {},
          "output_type": "execute_result"
        }
      ],
      "source": [
        "# 순서변경\n",
        "last_df = df[['fullVisitorId','date','visitStartTime',        # 유저고유ID, 방문날짜, 세션 방문 시간\n",
        "    'totals.timeOnSite','visitNumber', # totals.timeOnSite: 해당사이트에 머문시간(초), visitNumber: 몇 번째 방문 인지\n",
        "    'channelGrouping','device.browser','device.operatingSystem','device.deviceCategory', # 유입매체, 브라우저, 운영체제, 기기\n",
        "    'geoNetwork.continent','geoNetwork.subContinent', 'geoNetwork.country','geoNetwork.region','geoNetwork.metro','geoNetwork.city','geoNetwork.networkDomain', # 지역\n",
        "    'totals.hits', 'totals.pageviews', 'totals.bounces','totals.newVisits', # 'bounces' = 다른페이지 방문 없이 이탈여부, 'newVisits' = 재방문여부 \n",
        "    'totals.sessionQualityDim','totals.transactions','totals.transactionRevenue','totals.totalTransactionRevenue', # qualitydim =활동점수, transaction=구매활동횟수,transactionRevenue=비용제거거래액,totals.totalTransactionRevenue=비용포함\n",
        "    'trafficSource.campaign', 'trafficSource.adContent', # campaign=캠페인, adContent=캠패인 안의 컨텐츠\n",
        "    'trafficSource.source','trafficSource.referralPath', # source=유입사이트, referralPath =넘어 온 사이트(nan이면 사이틑에 직접들어온것) \n",
        "    'trafficSource.medium','trafficSource.keyword',      # medium=유입매체, keyword=유입검색단어,\n",
        "    'trafficSource.adwordsClickInfo.page','trafficSource.adwordsClickInfo.slot', # adwordsClickInfo.page=광고유입 후 방문한페이지수, adwordsClickInfo.slot=광고위치(\"RHS\"는 \"right-hand side\"오른쪽, \"Google Display Network\"는 검색결과창 외의 위치)\n",
        "    'trafficSource.adwordsClickInfo.gclId','trafficSource.adwordsClickInfo.adNetworkType', # gclId=구글ad로 유입(아닌 경우Nan), adNetworkType=유입광고위치 googlesearch(검색결과창),GDN(타사이트 광고창)\n",
        "    'customDimensions.index','customDimensions.value' # 사용자 지정 차원, 값(4차원엔 값이 있고, 결측차원엔 값이 없음)\n",
        "    ]]\n",
        "# channelGrouping 컬럼\n",
        "# \"Organic Search\" (검색 엔진), \"Direct\" (직접 방문), \"Referral\" (외부 웹사이트에서의 링크), \"Paid Search\" (광고), \n",
        "# \"Social\" (소셜 미디어), \"Email\" (이메일), \"Affiliates\" (제휴사), \"Display\" (디스플레이 광고)\n",
        "\n",
        "last_df.shape"
      ]
    },
    {
      "cell_type": "code",
      "execution_count": null,
      "metadata": {
        "id": "K_95_Z52gwh9",
        "outputId": "fb898d0c-afbe-4862-c6ad-d791e024d7db"
      },
      "outputs": [
        {
          "data": {
            "text/plain": [
              "36"
            ]
          },
          "execution_count": 84,
          "metadata": {},
          "output_type": "execute_result"
        }
      ],
      "source": [
        "# 빠진 컬럼 없는지 확인\n",
        "len(set(df.columns).intersection(set(last_df.columns)))"
      ]
    },
    {
      "cell_type": "code",
      "execution_count": null,
      "metadata": {
        "id": "ywM_zy_Fgwh9"
      },
      "outputs": [],
      "source": [
        "# 중간저장\n",
        "last_df.to_csv('without_hits.csv')"
      ]
    },
    {
      "cell_type": "code",
      "execution_count": null,
      "metadata": {
        "id": "hCP2EbQVgwh9"
      },
      "outputs": [],
      "source": [
        "# 결측치 처리"
      ]
    }
  ],
  "metadata": {
    "kernelspec": {
      "display_name": "ts",
      "language": "python",
      "name": "python3"
    },
    "language_info": {
      "codemirror_mode": {
        "name": "ipython",
        "version": 3
      },
      "file_extension": ".py",
      "mimetype": "text/x-python",
      "name": "python",
      "nbconvert_exporter": "python",
      "pygments_lexer": "ipython3",
      "version": "3.8.16"
    },
    "orig_nbformat": 4,
    "colab": {
      "provenance": [],
      "include_colab_link": true
    }
  },
  "nbformat": 4,
  "nbformat_minor": 0
}