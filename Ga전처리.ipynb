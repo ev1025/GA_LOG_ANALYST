{
  "cells": [
    {
      "cell_type": "markdown",
      "metadata": {
        "id": "view-in-github",
        "colab_type": "text"
      },
      "source": [
        "<a href=\"https://colab.research.google.com/github/ev1025/GA_LOG_ANALYST/blob/main/Ga%EC%A0%84%EC%B2%98%EB%A6%AC.ipynb\" target=\"_parent\"><img src=\"https://colab.research.google.com/assets/colab-badge.svg\" alt=\"Open In Colab\"/></a>"
      ]
    },
    {
      "cell_type": "code",
      "execution_count": null,
      "metadata": {
        "id": "9Q3BKB7QaQSC",
        "outputId": "ce2f923d-1272-4d90-f6e8-11ff53dfaf19"
      },
      "outputs": [
        {
          "name": "stdout",
          "output_type": "stream",
          "text": [
            "Requirement already satisfied: openpyxl in c:\\users\\envy\\anaconda3\\envs\\ts\\lib\\site-packages (3.1.2)\n",
            "Requirement already satisfied: et-xmlfile in c:\\users\\envy\\anaconda3\\envs\\ts\\lib\\site-packages (from openpyxl) (1.1.0)\n",
            "Note: you may need to restart the kernel to use updated packages.\n"
          ]
        }
      ],
      "source": [
        "pip install openpyxl"
      ]
    },
    {
      "cell_type": "code",
      "execution_count": null,
      "metadata": {
        "id": "aE31XhfRaQSH",
        "outputId": "edd1f4e1-2bf2-49eb-806c-c4e48c21293e"
      },
      "outputs": [
        {
          "name": "stdout",
          "output_type": "stream",
          "text": [
            "Requirement already satisfied: ipywidgets in c:\\users\\envy\\anaconda3\\envs\\ts\\lib\\site-packages (8.0.6)\n",
            "Requirement already satisfied: traitlets>=4.3.1 in c:\\users\\envy\\anaconda3\\envs\\ts\\lib\\site-packages (from ipywidgets) (5.9.0)\n",
            "Requirement already satisfied: jupyterlab-widgets~=3.0.7 in c:\\users\\envy\\anaconda3\\envs\\ts\\lib\\site-packages (from ipywidgets) (3.0.7)\n",
            "Requirement already satisfied: ipykernel>=4.5.1 in c:\\users\\envy\\anaconda3\\envs\\ts\\lib\\site-packages (from ipywidgets) (6.15.0)\n",
            "Requirement already satisfied: ipython>=6.1.0 in c:\\users\\envy\\anaconda3\\envs\\ts\\lib\\site-packages (from ipywidgets) (8.12.0)\n",
            "Requirement already satisfied: widgetsnbextension~=4.0.7 in c:\\users\\envy\\anaconda3\\envs\\ts\\lib\\site-packages (from ipywidgets) (4.0.7)\n",
            "Requirement already satisfied: psutil in c:\\users\\envy\\anaconda3\\envs\\ts\\lib\\site-packages (from ipykernel>=4.5.1->ipywidgets) (5.9.0)\n",
            "Requirement already satisfied: pyzmq>=17 in c:\\users\\envy\\anaconda3\\envs\\ts\\lib\\site-packages (from ipykernel>=4.5.1->ipywidgets) (23.2.0)\n",
            "Requirement already satisfied: jupyter-client>=6.1.12 in c:\\users\\envy\\anaconda3\\envs\\ts\\lib\\site-packages (from ipykernel>=4.5.1->ipywidgets) (8.1.0)\n",
            "Requirement already satisfied: matplotlib-inline>=0.1 in c:\\users\\envy\\anaconda3\\envs\\ts\\lib\\site-packages (from ipykernel>=4.5.1->ipywidgets) (0.1.6)\n",
            "Requirement already satisfied: packaging in c:\\users\\envy\\anaconda3\\envs\\ts\\lib\\site-packages (from ipykernel>=4.5.1->ipywidgets) (23.0)\n",
            "Requirement already satisfied: nest-asyncio in c:\\users\\envy\\anaconda3\\envs\\ts\\lib\\site-packages (from ipykernel>=4.5.1->ipywidgets) (1.5.6)\n",
            "Requirement already satisfied: tornado>=6.1 in c:\\users\\envy\\anaconda3\\envs\\ts\\lib\\site-packages (from ipykernel>=4.5.1->ipywidgets) (6.2)\n",
            "Requirement already satisfied: debugpy>=1.0 in c:\\users\\envy\\anaconda3\\envs\\ts\\lib\\site-packages (from ipykernel>=4.5.1->ipywidgets) (1.5.1)\n",
            "Requirement already satisfied: jedi>=0.16 in c:\\users\\envy\\anaconda3\\envs\\ts\\lib\\site-packages (from ipython>=6.1.0->ipywidgets) (0.18.2)\n",
            "Requirement already satisfied: prompt-toolkit!=3.0.37,<3.1.0,>=3.0.30 in c:\\users\\envy\\anaconda3\\envs\\ts\\lib\\site-packages (from ipython>=6.1.0->ipywidgets) (3.0.38)\n",
            "Requirement already satisfied: pygments>=2.4.0 in c:\\users\\envy\\anaconda3\\envs\\ts\\lib\\site-packages (from ipython>=6.1.0->ipywidgets) (2.14.0)\n",
            "Requirement already satisfied: stack-data in c:\\users\\envy\\anaconda3\\envs\\ts\\lib\\site-packages (from ipython>=6.1.0->ipywidgets) (0.6.2)\n",
            "Requirement already satisfied: backcall in c:\\users\\envy\\anaconda3\\envs\\ts\\lib\\site-packages (from ipython>=6.1.0->ipywidgets) (0.2.0)\n",
            "Requirement already satisfied: colorama in c:\\users\\envy\\anaconda3\\envs\\ts\\lib\\site-packages (from ipython>=6.1.0->ipywidgets) (0.4.6)\n",
            "Requirement already satisfied: decorator in c:\\users\\envy\\anaconda3\\envs\\ts\\lib\\site-packages (from ipython>=6.1.0->ipywidgets) (5.1.1)\n",
            "Requirement already satisfied: pickleshare in c:\\users\\envy\\anaconda3\\envs\\ts\\lib\\site-packages (from ipython>=6.1.0->ipywidgets) (0.7.5)\n",
            "Requirement already satisfied: typing-extensions in c:\\users\\envy\\anaconda3\\envs\\ts\\lib\\site-packages (from ipython>=6.1.0->ipywidgets) (4.5.0)\n",
            "Requirement already satisfied: parso<0.9.0,>=0.8.0 in c:\\users\\envy\\anaconda3\\envs\\ts\\lib\\site-packages (from jedi>=0.16->ipython>=6.1.0->ipywidgets) (0.8.3)\n",
            "Requirement already satisfied: importlib-metadata>=4.8.3 in c:\\users\\envy\\anaconda3\\envs\\ts\\lib\\site-packages (from jupyter-client>=6.1.12->ipykernel>=4.5.1->ipywidgets) (6.1.0)\n",
            "Requirement already satisfied: jupyter-core!=5.0.*,>=4.12 in c:\\users\\envy\\anaconda3\\envs\\ts\\lib\\site-packages (from jupyter-client>=6.1.12->ipykernel>=4.5.1->ipywidgets) (5.3.0)\n",
            "Requirement already satisfied: python-dateutil>=2.8.2 in c:\\users\\envy\\anaconda3\\envs\\ts\\lib\\site-packages (from jupyter-client>=6.1.12->ipykernel>=4.5.1->ipywidgets) (2.8.2)\n",
            "Requirement already satisfied: wcwidth in c:\\users\\envy\\anaconda3\\envs\\ts\\lib\\site-packages (from prompt-toolkit!=3.0.37,<3.1.0,>=3.0.30->ipython>=6.1.0->ipywidgets) (0.2.6)\n",
            "Requirement already satisfied: asttokens>=2.1.0 in c:\\users\\envy\\anaconda3\\envs\\ts\\lib\\site-packages (from stack-data->ipython>=6.1.0->ipywidgets) (2.2.1)\n",
            "Requirement already satisfied: pure-eval in c:\\users\\envy\\anaconda3\\envs\\ts\\lib\\site-packages (from stack-data->ipython>=6.1.0->ipywidgets) (0.2.2)\n",
            "Requirement already satisfied: executing>=1.2.0 in c:\\users\\envy\\anaconda3\\envs\\ts\\lib\\site-packages (from stack-data->ipython>=6.1.0->ipywidgets) (1.2.0)\n",
            "Requirement already satisfied: six in c:\\users\\envy\\anaconda3\\envs\\ts\\lib\\site-packages (from asttokens>=2.1.0->stack-data->ipython>=6.1.0->ipywidgets) (1.16.0)\n",
            "Requirement already satisfied: zipp>=0.5 in c:\\users\\envy\\anaconda3\\envs\\ts\\lib\\site-packages (from importlib-metadata>=4.8.3->jupyter-client>=6.1.12->ipykernel>=4.5.1->ipywidgets) (3.15.0)\n",
            "Requirement already satisfied: pywin32>=300 in c:\\users\\envy\\anaconda3\\envs\\ts\\lib\\site-packages (from jupyter-core!=5.0.*,>=4.12->jupyter-client>=6.1.12->ipykernel>=4.5.1->ipywidgets) (305.1)\n",
            "Requirement already satisfied: platformdirs>=2.5 in c:\\users\\envy\\anaconda3\\envs\\ts\\lib\\site-packages (from jupyter-core!=5.0.*,>=4.12->jupyter-client>=6.1.12->ipykernel>=4.5.1->ipywidgets) (3.2.0)\n",
            "Note: you may need to restart the kernel to use updated packages.\n"
          ]
        }
      ],
      "source": [
        "pip install ipywidgets"
      ]
    },
    {
      "cell_type": "code",
      "execution_count": null,
      "metadata": {
        "id": "9h-Ml6usaQSI"
      },
      "outputs": [],
      "source": [
        "import pandas as pd\n",
        "from pandas import json_normalize\n",
        "import json\n",
        "import os\n",
        "import csv\n",
        "import re\n",
        "import ast\n",
        "import copy\n",
        "from tqdm.notebook import tqdm\n"
      ]
    },
    {
      "cell_type": "code",
      "execution_count": null,
      "metadata": {
        "id": "hA_gubo5aQSJ"
      },
      "outputs": [],
      "source": [
        "# train_v2가 있는 경로로 이동\n",
        "# os.chdir('D:\\\\train_v2.csv')"
      ]
    },
    {
      "cell_type": "markdown",
      "metadata": {
        "id": "-FkKlQPvaQSK"
      },
      "source": [
        "**데이터 가져오기**"
      ]
    },
    {
      "cell_type": "markdown",
      "metadata": {
        "id": "aSL7MJvpaQSL"
      },
      "source": [
        "- 데이터 대용량(25GB)이슈로 인하여 read_csv의 chunksize를 사용하여 30만개의 데이터만 추출\n",
        "- 확인결과 2016년 10월 ~ 2018년 4월 데이터 추출\n",
        "- 데이터 용량이 4GB로 축소하였으나, 태블로 사용시 권장 용량이 4GB미만인 점과 1년의 추세를 보고자 2017년 자료로 사용"
      ]
    },
    {
      "cell_type": "code",
      "execution_count": null,
      "metadata": {
        "id": "zRCoDKTjaQSM"
      },
      "outputs": [],
      "source": [
        "# # address에 chunk 저장\n",
        "# address = pd.read_csv('train_v2.csv', chunksize=10000,\n",
        "#                        dtype={'fullVisitorId':'str',('date','fulVisitorid', 'visitId', 'visitNumber', 'visitStartTime'):'int'})\n",
        "# # 빈프레임 생성\n",
        "# train_data = pd.DataFrame()"
      ]
    },
    {
      "cell_type": "code",
      "execution_count": null,
      "metadata": {
        "id": "_UhGAn97aQSM"
      },
      "outputs": [],
      "source": [
        "# # 1만개씩 분할하여 빈 프레임에 30만개 수집\n",
        "# i = 0\n",
        "# for row, chunk in enumerate(address):\n",
        "#     train_data = pd.concat([train_data, chunk])\n",
        "#     print(f'{row*10000}개')\n",
        "#     i+=1\n",
        "#     if i == 30:\n",
        "#         break"
      ]
    },
    {
      "cell_type": "code",
      "execution_count": null,
      "metadata": {
        "id": "Se2cYCOlaQSN"
      },
      "outputs": [],
      "source": [
        "# # 2017년 GA쇼핑몰데이터만 저장\n",
        "# ga_2017 = train_data[train_data['date'].astype('str').str.contains('2017')]\n",
        "# ga_2017.to_csv('2017_ga_data.csv', index=False, lineterminator='\\n')"
      ]
    },
    {
      "cell_type": "code",
      "execution_count": null,
      "metadata": {
        "id": "PZJ7Uzs4aQSN"
      },
      "outputs": [],
      "source": [
        "# df = pd.read_csv('2017_ga_data.csv', \n",
        "#                 dtype={'fullVisitorId': 'str'})"
      ]
    },
    {
      "cell_type": "code",
      "execution_count": null,
      "metadata": {
        "id": "WyytYTvZaQSO"
      },
      "outputs": [],
      "source": [
        "# df2 = df.copy()"
      ]
    },
    {
      "cell_type": "markdown",
      "metadata": {
        "id": "ae3ysYzIaQSO"
      },
      "source": [
        "- 'hits' 컬럼에 read_csv의 converter가 적용되지 않는 이슈가 발생\n",
        "- 원인을 찾지 못해서 따로 json.loads 진행해주기로 결정\n",
        "- ' '로 묶인 문자는 json에서 사용할 수 없다는 오류 발생하여 '를 \"로 변경\n",
        "- Bool형식을 인식하지 못해서 True => \"True\" , False => \"False\"로 변경\n",
        "- ' 을 \"로 바꾸는 과정에서 제품명에 Men's와 같은 문자가 포함되어 있어서 문자열이 끊어지는 현상 발생\n",
        "- 결국 ast.literal_eval() 함수를 apply하여 json형식으로 변경"
      ]
    },
    {
      "cell_type": "code",
      "execution_count": null,
      "metadata": {
        "id": "VYEwocefaQSP"
      },
      "outputs": [],
      "source": [
        "## 각 컬럼의 json을 활성화(str=>json)\n",
        "# JSON_COLUMNS = ['device', 'geoNetwork', 'totals', 'trafficSource','hits']\n",
        "\n",
        "# for i in JSON_COLUMNS:\n",
        "#     df2[i] = df2[i].apply(lambda x : ast.literal_eval(x))\n",
        "#     print(f'{i} 끝')"
      ]
    },
    {
      "cell_type": "code",
      "execution_count": null,
      "metadata": {
        "id": "y26lhGhwaQSP"
      },
      "outputs": [],
      "source": [
        "# df2.to_csv('all_convert.csv',index=False)"
      ]
    },
    {
      "cell_type": "code",
      "execution_count": null,
      "metadata": {
        "id": "pNCwYJ2EaQSQ"
      },
      "outputs": [],
      "source": [
        "# # json형태의 컬럼들을  key : value 형태로 컬럼화\n",
        "# json_to_col = ['device','geoNetwork', 'totals', 'trafficSource']\n",
        "# for column in json_to_col:\n",
        "#         column_as_df = json_normalize(df2[column])\n",
        "#         column_as_df.columns = [f\"{column}.{subcolumn}\" for subcolumn in column_as_df.columns]\n",
        "#         df2 = df2.drop(column, axis=1).merge(column_as_df, right_index=True, left_index=True)\n",
        "# df2.shape"
      ]
    },
    {
      "cell_type": "code",
      "execution_count": null,
      "metadata": {
        "id": "46n2Xm-gaQSQ",
        "outputId": "7166d854-13df-4bbe-9dfa-b768e1f56f8b"
      },
      "outputs": [
        {
          "name": "stderr",
          "output_type": "stream",
          "text": [
            "C:\\Users\\ENVY\\AppData\\Local\\Temp\\ipykernel_7224\\3722996920.py:2: DtypeWarning: Columns (3) have mixed types. Specify dtype option on import or set low_memory=False.\n",
            "  df2 = pd.read_csv('json_convert.csv')\n"
          ]
        }
      ],
      "source": [
        "os.chdir('C:\\\\Users\\\\ENVY\\\\Desktop')\n",
        "df2 = pd.read_csv('json_convert.csv')"
      ]
    },
    {
      "cell_type": "markdown",
      "metadata": {
        "id": "5YT_V-sKaQSQ"
      },
      "source": [
        "- customDimensions와 hits컬럼은 이중 json이라 따로 정리"
      ]
    },
    {
      "cell_type": "code",
      "execution_count": null,
      "metadata": {
        "id": "z9revxejaQSR",
        "outputId": "a5a24997-9c84-4875-9df0-58c77b11e9d2",
        "colab": {
          "referenced_widgets": [
            "2a61f3c53703484cbccba47da52e0920"
          ]
        }
      },
      "outputs": [
        {
          "data": {
            "application/vnd.jupyter.widget-view+json": {
              "model_id": "2a61f3c53703484cbccba47da52e0920",
              "version_major": 2,
              "version_minor": 0
            },
            "text/plain": [
              "  0%|          | 0/156860 [00:00<?, ?it/s]"
            ]
          },
          "metadata": {},
          "output_type": "display_data"
        }
      ],
      "source": [
        "# 이중 dict형태라서 따로 정리\n",
        "tqdm.pandas()\n",
        "df2['customDimensions'] = df2['customDimensions'].progress_apply(lambda x : ast.literal_eval(x))"
      ]
    },
    {
      "cell_type": "code",
      "execution_count": null,
      "metadata": {
        "id": "7JBKShE4aQSR"
      },
      "outputs": [],
      "source": [
        "custom = json_normalize(df2['customDimensions'])\n",
        "cus_col = json_normalize(custom[0])\n",
        "cus_col.columns = [f'{\"customDimensions\"}.{subcolumn}' for subcolumn in cus_col.columns]\n",
        "df2 = df2.drop(['customDimensions'],axis=1).merge(cus_col,right_index=True, left_index=True)"
      ]
    },
    {
      "cell_type": "code",
      "execution_count": null,
      "metadata": {
        "id": "g6J55w29aQSR",
        "outputId": "60d2b539-00ae-49b6-9bab-eecebc2453a9",
        "colab": {
          "referenced_widgets": [
            "228feec1da0e4d4dbcc2a9aa81c04579"
          ]
        }
      },
      "outputs": [
        {
          "data": {
            "application/vnd.jupyter.widget-view+json": {
              "model_id": "228feec1da0e4d4dbcc2a9aa81c04579",
              "version_major": 2,
              "version_minor": 0
            },
            "text/plain": [
              "  0%|          | 0/156860 [00:00<?, ?it/s]"
            ]
          },
          "metadata": {},
          "output_type": "display_data"
        }
      ],
      "source": [
        "# 조회한 횟수 만큼 컬럼이 생김\n",
        "hit = df2['hits'].progress_apply(lambda x : ast.literal_eval(x))"
      ]
    },
    {
      "cell_type": "code",
      "execution_count": null,
      "metadata": {
        "id": "g1sy2ttfaQSR",
        "outputId": "10bdb925-48cb-4f1e-909a-d50dedc05cf2"
      },
      "outputs": [
        {
          "data": {
            "text/html": [
              "<div>\n",
              "<style scoped>\n",
              "    .dataframe tbody tr th:only-of-type {\n",
              "        vertical-align: middle;\n",
              "    }\n",
              "\n",
              "    .dataframe tbody tr th {\n",
              "        vertical-align: top;\n",
              "    }\n",
              "\n",
              "    .dataframe thead th {\n",
              "        text-align: right;\n",
              "    }\n",
              "</style>\n",
              "<table border=\"1\" class=\"dataframe\">\n",
              "  <thead>\n",
              "    <tr style=\"text-align: right;\">\n",
              "      <th></th>\n",
              "      <th>0</th>\n",
              "      <th>1</th>\n",
              "      <th>2</th>\n",
              "      <th>3</th>\n",
              "      <th>4</th>\n",
              "      <th>5</th>\n",
              "      <th>6</th>\n",
              "      <th>7</th>\n",
              "      <th>8</th>\n",
              "      <th>9</th>\n",
              "      <th>...</th>\n",
              "      <th>490</th>\n",
              "      <th>491</th>\n",
              "      <th>492</th>\n",
              "      <th>493</th>\n",
              "      <th>494</th>\n",
              "      <th>495</th>\n",
              "      <th>496</th>\n",
              "      <th>497</th>\n",
              "      <th>498</th>\n",
              "      <th>499</th>\n",
              "    </tr>\n",
              "  </thead>\n",
              "  <tbody>\n",
              "    <tr>\n",
              "      <th>0</th>\n",
              "      <td>{'hitNumber': '1', 'time': '0', 'hour': '17', ...</td>\n",
              "      <td>None</td>\n",
              "      <td>None</td>\n",
              "      <td>None</td>\n",
              "      <td>None</td>\n",
              "      <td>None</td>\n",
              "      <td>None</td>\n",
              "      <td>None</td>\n",
              "      <td>None</td>\n",
              "      <td>None</td>\n",
              "      <td>...</td>\n",
              "      <td>None</td>\n",
              "      <td>None</td>\n",
              "      <td>None</td>\n",
              "      <td>None</td>\n",
              "      <td>None</td>\n",
              "      <td>None</td>\n",
              "      <td>None</td>\n",
              "      <td>None</td>\n",
              "      <td>None</td>\n",
              "      <td>None</td>\n",
              "    </tr>\n",
              "    <tr>\n",
              "      <th>1</th>\n",
              "      <td>{'hitNumber': '1', 'time': '0', 'hour': '10', ...</td>\n",
              "      <td>{'hitNumber': '2', 'time': '27844', 'hour': '1...</td>\n",
              "      <td>None</td>\n",
              "      <td>None</td>\n",
              "      <td>None</td>\n",
              "      <td>None</td>\n",
              "      <td>None</td>\n",
              "      <td>None</td>\n",
              "      <td>None</td>\n",
              "      <td>None</td>\n",
              "      <td>...</td>\n",
              "      <td>None</td>\n",
              "      <td>None</td>\n",
              "      <td>None</td>\n",
              "      <td>None</td>\n",
              "      <td>None</td>\n",
              "      <td>None</td>\n",
              "      <td>None</td>\n",
              "      <td>None</td>\n",
              "      <td>None</td>\n",
              "      <td>None</td>\n",
              "    </tr>\n",
              "    <tr>\n",
              "      <th>2</th>\n",
              "      <td>{'hitNumber': '1', 'time': '0', 'hour': '17', ...</td>\n",
              "      <td>{'hitNumber': '2', 'time': '38153', 'hour': '1...</td>\n",
              "      <td>None</td>\n",
              "      <td>None</td>\n",
              "      <td>None</td>\n",
              "      <td>None</td>\n",
              "      <td>None</td>\n",
              "      <td>None</td>\n",
              "      <td>None</td>\n",
              "      <td>None</td>\n",
              "      <td>...</td>\n",
              "      <td>None</td>\n",
              "      <td>None</td>\n",
              "      <td>None</td>\n",
              "      <td>None</td>\n",
              "      <td>None</td>\n",
              "      <td>None</td>\n",
              "      <td>None</td>\n",
              "      <td>None</td>\n",
              "      <td>None</td>\n",
              "      <td>None</td>\n",
              "    </tr>\n",
              "    <tr>\n",
              "      <th>3</th>\n",
              "      <td>{'hitNumber': '1', 'time': '0', 'hour': '9', '...</td>\n",
              "      <td>{'hitNumber': '2', 'time': '1087', 'hour': '9'...</td>\n",
              "      <td>None</td>\n",
              "      <td>None</td>\n",
              "      <td>None</td>\n",
              "      <td>None</td>\n",
              "      <td>None</td>\n",
              "      <td>None</td>\n",
              "      <td>None</td>\n",
              "      <td>None</td>\n",
              "      <td>...</td>\n",
              "      <td>None</td>\n",
              "      <td>None</td>\n",
              "      <td>None</td>\n",
              "      <td>None</td>\n",
              "      <td>None</td>\n",
              "      <td>None</td>\n",
              "      <td>None</td>\n",
              "      <td>None</td>\n",
              "      <td>None</td>\n",
              "      <td>None</td>\n",
              "    </tr>\n",
              "    <tr>\n",
              "      <th>4</th>\n",
              "      <td>{'hitNumber': '1', 'time': '0', 'hour': '14', ...</td>\n",
              "      <td>{'hitNumber': '2', 'time': '52349', 'hour': '1...</td>\n",
              "      <td>None</td>\n",
              "      <td>None</td>\n",
              "      <td>None</td>\n",
              "      <td>None</td>\n",
              "      <td>None</td>\n",
              "      <td>None</td>\n",
              "      <td>None</td>\n",
              "      <td>None</td>\n",
              "      <td>...</td>\n",
              "      <td>None</td>\n",
              "      <td>None</td>\n",
              "      <td>None</td>\n",
              "      <td>None</td>\n",
              "      <td>None</td>\n",
              "      <td>None</td>\n",
              "      <td>None</td>\n",
              "      <td>None</td>\n",
              "      <td>None</td>\n",
              "      <td>None</td>\n",
              "    </tr>\n",
              "  </tbody>\n",
              "</table>\n",
              "<p>5 rows × 500 columns</p>\n",
              "</div>"
            ],
            "text/plain": [
              "                                                 0    \\\n",
              "0  {'hitNumber': '1', 'time': '0', 'hour': '17', ...   \n",
              "1  {'hitNumber': '1', 'time': '0', 'hour': '10', ...   \n",
              "2  {'hitNumber': '1', 'time': '0', 'hour': '17', ...   \n",
              "3  {'hitNumber': '1', 'time': '0', 'hour': '9', '...   \n",
              "4  {'hitNumber': '1', 'time': '0', 'hour': '14', ...   \n",
              "\n",
              "                                                 1     2     3     4     5    \\\n",
              "0                                               None  None  None  None  None   \n",
              "1  {'hitNumber': '2', 'time': '27844', 'hour': '1...  None  None  None  None   \n",
              "2  {'hitNumber': '2', 'time': '38153', 'hour': '1...  None  None  None  None   \n",
              "3  {'hitNumber': '2', 'time': '1087', 'hour': '9'...  None  None  None  None   \n",
              "4  {'hitNumber': '2', 'time': '52349', 'hour': '1...  None  None  None  None   \n",
              "\n",
              "    6     7     8     9    ...   490   491   492   493   494   495   496  \\\n",
              "0  None  None  None  None  ...  None  None  None  None  None  None  None   \n",
              "1  None  None  None  None  ...  None  None  None  None  None  None  None   \n",
              "2  None  None  None  None  ...  None  None  None  None  None  None  None   \n",
              "3  None  None  None  None  ...  None  None  None  None  None  None  None   \n",
              "4  None  None  None  None  ...  None  None  None  None  None  None  None   \n",
              "\n",
              "    497   498   499  \n",
              "0  None  None  None  \n",
              "1  None  None  None  \n",
              "2  None  None  None  \n",
              "3  None  None  None  \n",
              "4  None  None  None  \n",
              "\n",
              "[5 rows x 500 columns]"
            ]
          },
          "execution_count": 21,
          "metadata": {},
          "output_type": "execute_result"
        }
      ],
      "source": [
        "# 빈 컬럼과 데이터 컬럼 생성(hit수 만큼 컬럼이 생김)\n",
        "emp_data = pd.DataFrame()\n",
        "hits_col = json_normalize(hit)\n",
        "hits_col.head()"
      ]
    },
    {
      "cell_type": "code",
      "execution_count": null,
      "metadata": {
        "id": "exCXlBqyaQSS",
        "outputId": "7b09f27d-93aa-4a90-8f8e-1e4f3d3a546c",
        "colab": {
          "referenced_widgets": [
            "f2368c86fe734e3d8cd3f7b41ed50cc1"
          ]
        }
      },
      "outputs": [
        {
          "data": {
            "application/vnd.jupyter.widget-view+json": {
              "model_id": "f2368c86fe734e3d8cd3f7b41ed50cc1",
              "version_major": 2,
              "version_minor": 0
            },
            "text/plain": [
              "  0%|          | 0/500 [00:00<?, ?it/s]"
            ]
          },
          "metadata": {},
          "output_type": "display_data"
        }
      ],
      "source": [
        "# # hitsnum별로 옆으로 이어붙이기(필요할까?)\n",
        "# for i in tqdm(range(len(hits_col.columns))):\n",
        "#     emp_data = pd.concat([emp_data, json_normalize(hits_col[i])], axis=1)\n",
        "\n",
        "# emp_data.head()"
      ]
    },
    {
      "cell_type": "code",
      "execution_count": null,
      "metadata": {
        "id": "NQSQcoKIaQSS"
      },
      "outputs": [],
      "source": [
        "# 일단 hitNumber1에 대해서만 분석하기로 결정\n",
        "emp_data = pd.concat([emp_data, json_normalize(hits_col[0])],axis=1)\n",
        "df2 = df2.drop(['hits'],axis=1).merge(emp_data,right_index=True, left_index=True)\n",
        "df2.to_csv('hits_last.csv',index=False)"
      ]
    },
    {
      "cell_type": "code",
      "execution_count": null,
      "metadata": {
        "id": "CdS5g5FMaQSS",
        "outputId": "1f03fb6c-1e81-4a35-a4f8-52e3fdb5ea1d"
      },
      "outputs": [
        {
          "data": {
            "text/html": [
              "<div>\n",
              "<style scoped>\n",
              "    .dataframe tbody tr th:only-of-type {\n",
              "        vertical-align: middle;\n",
              "    }\n",
              "\n",
              "    .dataframe tbody tr th {\n",
              "        vertical-align: top;\n",
              "    }\n",
              "\n",
              "    .dataframe thead th {\n",
              "        text-align: right;\n",
              "    }\n",
              "</style>\n",
              "<table border=\"1\" class=\"dataframe\">\n",
              "  <thead>\n",
              "    <tr style=\"text-align: right;\">\n",
              "      <th></th>\n",
              "      <th>channelGrouping</th>\n",
              "      <th>date</th>\n",
              "      <th>fullVisitorId</th>\n",
              "      <th>socialEngagementType</th>\n",
              "      <th>visitId</th>\n",
              "      <th>visitNumber</th>\n",
              "      <th>visitStartTime</th>\n",
              "      <th>device.browser</th>\n",
              "      <th>device.browserVersion</th>\n",
              "      <th>device.browserSize</th>\n",
              "      <th>...</th>\n",
              "      <th>latencyTracking.pageLoadTime</th>\n",
              "      <th>latencyTracking.pageDownloadTime</th>\n",
              "      <th>latencyTracking.redirectionTime</th>\n",
              "      <th>latencyTracking.speedMetricsSample</th>\n",
              "      <th>latencyTracking.domainLookupTime</th>\n",
              "      <th>latencyTracking.serverConnectionTime</th>\n",
              "      <th>latencyTracking.serverResponseTime</th>\n",
              "      <th>latencyTracking.domLatencyMetricsSample</th>\n",
              "      <th>latencyTracking.domInteractiveTime</th>\n",
              "      <th>latencyTracking.domContentLoadedTime</th>\n",
              "    </tr>\n",
              "  </thead>\n",
              "  <tbody>\n",
              "    <tr>\n",
              "      <th>0</th>\n",
              "      <td>Organic Search</td>\n",
              "      <td>20171016</td>\n",
              "      <td>3162355547410993243</td>\n",
              "      <td>Not Socially Engaged</td>\n",
              "      <td>1508198450</td>\n",
              "      <td>1</td>\n",
              "      <td>1508198450</td>\n",
              "      <td>Firefox</td>\n",
              "      <td>not available in demo dataset</td>\n",
              "      <td>not available in demo dataset</td>\n",
              "      <td>...</td>\n",
              "      <td>NaN</td>\n",
              "      <td>NaN</td>\n",
              "      <td>NaN</td>\n",
              "      <td>NaN</td>\n",
              "      <td>NaN</td>\n",
              "      <td>NaN</td>\n",
              "      <td>NaN</td>\n",
              "      <td>NaN</td>\n",
              "      <td>NaN</td>\n",
              "      <td>NaN</td>\n",
              "    </tr>\n",
              "    <tr>\n",
              "      <th>1</th>\n",
              "      <td>Referral</td>\n",
              "      <td>20171016</td>\n",
              "      <td>8934116514970143966</td>\n",
              "      <td>Not Socially Engaged</td>\n",
              "      <td>1508176307</td>\n",
              "      <td>6</td>\n",
              "      <td>1508176307</td>\n",
              "      <td>Chrome</td>\n",
              "      <td>not available in demo dataset</td>\n",
              "      <td>not available in demo dataset</td>\n",
              "      <td>...</td>\n",
              "      <td>NaN</td>\n",
              "      <td>NaN</td>\n",
              "      <td>NaN</td>\n",
              "      <td>NaN</td>\n",
              "      <td>NaN</td>\n",
              "      <td>NaN</td>\n",
              "      <td>NaN</td>\n",
              "      <td>NaN</td>\n",
              "      <td>NaN</td>\n",
              "      <td>NaN</td>\n",
              "    </tr>\n",
              "    <tr>\n",
              "      <th>2</th>\n",
              "      <td>Direct</td>\n",
              "      <td>20171016</td>\n",
              "      <td>7992466427990357681</td>\n",
              "      <td>Not Socially Engaged</td>\n",
              "      <td>1508201613</td>\n",
              "      <td>1</td>\n",
              "      <td>1508201613</td>\n",
              "      <td>Chrome</td>\n",
              "      <td>not available in demo dataset</td>\n",
              "      <td>not available in demo dataset</td>\n",
              "      <td>...</td>\n",
              "      <td>NaN</td>\n",
              "      <td>NaN</td>\n",
              "      <td>NaN</td>\n",
              "      <td>NaN</td>\n",
              "      <td>NaN</td>\n",
              "      <td>NaN</td>\n",
              "      <td>NaN</td>\n",
              "      <td>NaN</td>\n",
              "      <td>NaN</td>\n",
              "      <td>NaN</td>\n",
              "    </tr>\n",
              "    <tr>\n",
              "      <th>3</th>\n",
              "      <td>Organic Search</td>\n",
              "      <td>20171016</td>\n",
              "      <td>9075655783635761930</td>\n",
              "      <td>Not Socially Engaged</td>\n",
              "      <td>1508169851</td>\n",
              "      <td>1</td>\n",
              "      <td>1508169851</td>\n",
              "      <td>Chrome</td>\n",
              "      <td>not available in demo dataset</td>\n",
              "      <td>not available in demo dataset</td>\n",
              "      <td>...</td>\n",
              "      <td>NaN</td>\n",
              "      <td>NaN</td>\n",
              "      <td>NaN</td>\n",
              "      <td>NaN</td>\n",
              "      <td>NaN</td>\n",
              "      <td>NaN</td>\n",
              "      <td>NaN</td>\n",
              "      <td>NaN</td>\n",
              "      <td>NaN</td>\n",
              "      <td>NaN</td>\n",
              "    </tr>\n",
              "    <tr>\n",
              "      <th>4</th>\n",
              "      <td>Organic Search</td>\n",
              "      <td>20171016</td>\n",
              "      <td>6960673291025684308</td>\n",
              "      <td>Not Socially Engaged</td>\n",
              "      <td>1508190552</td>\n",
              "      <td>1</td>\n",
              "      <td>1508190552</td>\n",
              "      <td>Chrome</td>\n",
              "      <td>not available in demo dataset</td>\n",
              "      <td>not available in demo dataset</td>\n",
              "      <td>...</td>\n",
              "      <td>NaN</td>\n",
              "      <td>NaN</td>\n",
              "      <td>NaN</td>\n",
              "      <td>NaN</td>\n",
              "      <td>NaN</td>\n",
              "      <td>NaN</td>\n",
              "      <td>NaN</td>\n",
              "      <td>NaN</td>\n",
              "      <td>NaN</td>\n",
              "      <td>NaN</td>\n",
              "    </tr>\n",
              "  </tbody>\n",
              "</table>\n",
              "<p>5 rows × 126 columns</p>\n",
              "</div>"
            ],
            "text/plain": [
              "  channelGrouping      date        fullVisitorId  socialEngagementType  \\\n",
              "0  Organic Search  20171016  3162355547410993243  Not Socially Engaged   \n",
              "1        Referral  20171016  8934116514970143966  Not Socially Engaged   \n",
              "2          Direct  20171016  7992466427990357681  Not Socially Engaged   \n",
              "3  Organic Search  20171016  9075655783635761930  Not Socially Engaged   \n",
              "4  Organic Search  20171016  6960673291025684308  Not Socially Engaged   \n",
              "\n",
              "      visitId  visitNumber  visitStartTime device.browser  \\\n",
              "0  1508198450            1      1508198450        Firefox   \n",
              "1  1508176307            6      1508176307         Chrome   \n",
              "2  1508201613            1      1508201613         Chrome   \n",
              "3  1508169851            1      1508169851         Chrome   \n",
              "4  1508190552            1      1508190552         Chrome   \n",
              "\n",
              "           device.browserVersion             device.browserSize  ...  \\\n",
              "0  not available in demo dataset  not available in demo dataset  ...   \n",
              "1  not available in demo dataset  not available in demo dataset  ...   \n",
              "2  not available in demo dataset  not available in demo dataset  ...   \n",
              "3  not available in demo dataset  not available in demo dataset  ...   \n",
              "4  not available in demo dataset  not available in demo dataset  ...   \n",
              "\n",
              "  latencyTracking.pageLoadTime latencyTracking.pageDownloadTime  \\\n",
              "0                          NaN                              NaN   \n",
              "1                          NaN                              NaN   \n",
              "2                          NaN                              NaN   \n",
              "3                          NaN                              NaN   \n",
              "4                          NaN                              NaN   \n",
              "\n",
              "   latencyTracking.redirectionTime latencyTracking.speedMetricsSample  \\\n",
              "0                              NaN                                NaN   \n",
              "1                              NaN                                NaN   \n",
              "2                              NaN                                NaN   \n",
              "3                              NaN                                NaN   \n",
              "4                              NaN                                NaN   \n",
              "\n",
              "  latencyTracking.domainLookupTime latencyTracking.serverConnectionTime  \\\n",
              "0                              NaN                                  NaN   \n",
              "1                              NaN                                  NaN   \n",
              "2                              NaN                                  NaN   \n",
              "3                              NaN                                  NaN   \n",
              "4                              NaN                                  NaN   \n",
              "\n",
              "  latencyTracking.serverResponseTime latencyTracking.domLatencyMetricsSample  \\\n",
              "0                                NaN                                     NaN   \n",
              "1                                NaN                                     NaN   \n",
              "2                                NaN                                     NaN   \n",
              "3                                NaN                                     NaN   \n",
              "4                                NaN                                     NaN   \n",
              "\n",
              "  latencyTracking.domInteractiveTime latencyTracking.domContentLoadedTime  \n",
              "0                                NaN                                  NaN  \n",
              "1                                NaN                                  NaN  \n",
              "2                                NaN                                  NaN  \n",
              "3                                NaN                                  NaN  \n",
              "4                                NaN                                  NaN  \n",
              "\n",
              "[5 rows x 126 columns]"
            ]
          },
          "execution_count": 26,
          "metadata": {},
          "output_type": "execute_result"
        }
      ],
      "source": [
        "df2.head()"
      ]
    }
  ],
  "metadata": {
    "kernelspec": {
      "display_name": "Python 3",
      "language": "python",
      "name": "python3"
    },
    "language_info": {
      "codemirror_mode": {
        "name": "ipython",
        "version": 3
      },
      "file_extension": ".py",
      "mimetype": "text/x-python",
      "name": "python",
      "nbconvert_exporter": "python",
      "pygments_lexer": "ipython3",
      "version": "3.8.16"
    },
    "orig_nbformat": 4,
    "colab": {
      "provenance": [],
      "include_colab_link": true
    }
  },
  "nbformat": 4,
  "nbformat_minor": 0
}